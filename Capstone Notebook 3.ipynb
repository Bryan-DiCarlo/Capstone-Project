{
 "cells": [
  {
   "cell_type": "markdown",
   "metadata": {},
   "source": [
    "# Capstone Notebook 3: Predicting Made Shots With Machine Learning"
   ]
  },
  {
   "cell_type": "markdown",
   "metadata": {},
   "source": [
    "# Introduction\n",
    "- We have already done an in-depth analysis of shooting and defensive statistics.\n",
    "- We also created a model for predicting the outcome of a game.\n",
    "- Here we will develop models for predicting the outcome of a shot, made or missed.\n",
    "- Since we have data related to shots we hope to improve on our previous win or loss predictions.\n",
    "- From our previous analysis we know the overall league average for shots made is 45%.\n",
    "- We will attempt to build a model that improves on this ground truth average of 45%\n",
    "- Even if we find a model with predictive value of 60% or higher, this still provides important information.\n",
    "- The model along with the most important features can provide important information to teams regarding the factors and scenarios most likely to result in a made shot.\n"
   ]
  },
  {
   "cell_type": "markdown",
   "metadata": {},
   "source": [
    "# 1.1 Imports"
   ]
  },
  {
   "cell_type": "code",
   "execution_count": 1,
   "metadata": {},
   "outputs": [
    {
     "name": "stderr",
     "output_type": "stream",
     "text": [
      "C:\\Users\\bryan\\Anaconda3\\lib\\site-packages\\sklearn\\externals\\six.py:31: DeprecationWarning: The module is deprecated in version 0.21 and will be removed in version 0.23 since we've dropped support for Python 2.7. Please rely on the official version of six (https://pypi.org/project/six/).\n",
      "  \"(https://pypi.org/project/six/).\", DeprecationWarning)\n"
     ]
    }
   ],
   "source": [
    "import pandas as pd\n",
    "import numpy as np\n",
    "import matplotlib.pyplot as plt\n",
    "import seaborn as sns\n",
    "from sklearn.metrics import confusion_matrix, classification_report\n",
    "from sklearn.model_selection import KFold, cross_val_score\n",
    "from sklearn.model_selection import train_test_split\n",
    "from sklearn.ensemble import GradientBoostingClassifier, AdaBoostClassifier\n",
    "from sklearn.ensemble import RandomForestClassifier\n",
    "from sklearn.model_selection import GridSearchCV\n",
    "from sklearn.metrics import accuracy_score, f1_score, precision_score, recall_score\n",
    "from imblearn.over_sampling import SMOTE\n",
    "import warnings\n",
    "np.random.seed(10)\n",
    "warnings.filterwarnings('ignore')\n",
    "%matplotlib inline\n",
    "sns.set_style(\"darkgrid\")"
   ]
  },
  {
   "cell_type": "markdown",
   "metadata": {},
   "source": [
    "# 1.2 EDA"
   ]
  },
  {
   "cell_type": "markdown",
   "metadata": {},
   "source": [
    "#### IMPORT DATA FROM CSV FILE"
   ]
  },
  {
   "cell_type": "code",
   "execution_count": 2,
   "metadata": {},
   "outputs": [],
   "source": [
    "# Read the SHOT LOGS data into a Pandas DataFrame\n",
    "df = pd.read_csv('shot_logs.csv')"
   ]
  },
  {
   "cell_type": "code",
   "execution_count": 3,
   "metadata": {},
   "outputs": [
    {
     "data": {
      "text/html": [
       "<div>\n",
       "<style scoped>\n",
       "    .dataframe tbody tr th:only-of-type {\n",
       "        vertical-align: middle;\n",
       "    }\n",
       "\n",
       "    .dataframe tbody tr th {\n",
       "        vertical-align: top;\n",
       "    }\n",
       "\n",
       "    .dataframe thead th {\n",
       "        text-align: right;\n",
       "    }\n",
       "</style>\n",
       "<table border=\"1\" class=\"dataframe\">\n",
       "  <thead>\n",
       "    <tr style=\"text-align: right;\">\n",
       "      <th></th>\n",
       "      <th>GAME_ID</th>\n",
       "      <th>MATCHUP</th>\n",
       "      <th>LOCATION</th>\n",
       "      <th>W</th>\n",
       "      <th>FINAL_MARGIN</th>\n",
       "      <th>SHOT_NUMBER</th>\n",
       "      <th>PERIOD</th>\n",
       "      <th>GAME_CLOCK</th>\n",
       "      <th>SHOT_CLOCK</th>\n",
       "      <th>DRIBBLES</th>\n",
       "      <th>...</th>\n",
       "      <th>SHOT_DIST</th>\n",
       "      <th>PTS_TYPE</th>\n",
       "      <th>SHOT_RESULT</th>\n",
       "      <th>CLOSEST_DEFENDER</th>\n",
       "      <th>CLOSEST_DEFENDER_PLAYER_ID</th>\n",
       "      <th>CLOSE_DEF_DIST</th>\n",
       "      <th>FGM</th>\n",
       "      <th>PTS</th>\n",
       "      <th>player_name</th>\n",
       "      <th>player_id</th>\n",
       "    </tr>\n",
       "  </thead>\n",
       "  <tbody>\n",
       "    <tr>\n",
       "      <th>0</th>\n",
       "      <td>21400899</td>\n",
       "      <td>MAR 04, 2015 - CHA @ BKN</td>\n",
       "      <td>A</td>\n",
       "      <td>W</td>\n",
       "      <td>24</td>\n",
       "      <td>1</td>\n",
       "      <td>1</td>\n",
       "      <td>1:09</td>\n",
       "      <td>10.8</td>\n",
       "      <td>2</td>\n",
       "      <td>...</td>\n",
       "      <td>7.7</td>\n",
       "      <td>2</td>\n",
       "      <td>made</td>\n",
       "      <td>Anderson, Alan</td>\n",
       "      <td>101187</td>\n",
       "      <td>1.3</td>\n",
       "      <td>1</td>\n",
       "      <td>2</td>\n",
       "      <td>brian roberts</td>\n",
       "      <td>203148</td>\n",
       "    </tr>\n",
       "    <tr>\n",
       "      <th>1</th>\n",
       "      <td>21400899</td>\n",
       "      <td>MAR 04, 2015 - CHA @ BKN</td>\n",
       "      <td>A</td>\n",
       "      <td>W</td>\n",
       "      <td>24</td>\n",
       "      <td>2</td>\n",
       "      <td>1</td>\n",
       "      <td>0:14</td>\n",
       "      <td>3.4</td>\n",
       "      <td>0</td>\n",
       "      <td>...</td>\n",
       "      <td>28.2</td>\n",
       "      <td>3</td>\n",
       "      <td>missed</td>\n",
       "      <td>Bogdanovic, Bojan</td>\n",
       "      <td>202711</td>\n",
       "      <td>6.1</td>\n",
       "      <td>0</td>\n",
       "      <td>0</td>\n",
       "      <td>brian roberts</td>\n",
       "      <td>203148</td>\n",
       "    </tr>\n",
       "    <tr>\n",
       "      <th>2</th>\n",
       "      <td>21400899</td>\n",
       "      <td>MAR 04, 2015 - CHA @ BKN</td>\n",
       "      <td>A</td>\n",
       "      <td>W</td>\n",
       "      <td>24</td>\n",
       "      <td>3</td>\n",
       "      <td>1</td>\n",
       "      <td>0:00</td>\n",
       "      <td>NaN</td>\n",
       "      <td>3</td>\n",
       "      <td>...</td>\n",
       "      <td>10.1</td>\n",
       "      <td>2</td>\n",
       "      <td>missed</td>\n",
       "      <td>Bogdanovic, Bojan</td>\n",
       "      <td>202711</td>\n",
       "      <td>0.9</td>\n",
       "      <td>0</td>\n",
       "      <td>0</td>\n",
       "      <td>brian roberts</td>\n",
       "      <td>203148</td>\n",
       "    </tr>\n",
       "    <tr>\n",
       "      <th>3</th>\n",
       "      <td>21400899</td>\n",
       "      <td>MAR 04, 2015 - CHA @ BKN</td>\n",
       "      <td>A</td>\n",
       "      <td>W</td>\n",
       "      <td>24</td>\n",
       "      <td>4</td>\n",
       "      <td>2</td>\n",
       "      <td>11:47</td>\n",
       "      <td>10.3</td>\n",
       "      <td>2</td>\n",
       "      <td>...</td>\n",
       "      <td>17.2</td>\n",
       "      <td>2</td>\n",
       "      <td>missed</td>\n",
       "      <td>Brown, Markel</td>\n",
       "      <td>203900</td>\n",
       "      <td>3.4</td>\n",
       "      <td>0</td>\n",
       "      <td>0</td>\n",
       "      <td>brian roberts</td>\n",
       "      <td>203148</td>\n",
       "    </tr>\n",
       "    <tr>\n",
       "      <th>4</th>\n",
       "      <td>21400899</td>\n",
       "      <td>MAR 04, 2015 - CHA @ BKN</td>\n",
       "      <td>A</td>\n",
       "      <td>W</td>\n",
       "      <td>24</td>\n",
       "      <td>5</td>\n",
       "      <td>2</td>\n",
       "      <td>10:34</td>\n",
       "      <td>10.9</td>\n",
       "      <td>2</td>\n",
       "      <td>...</td>\n",
       "      <td>3.7</td>\n",
       "      <td>2</td>\n",
       "      <td>missed</td>\n",
       "      <td>Young, Thaddeus</td>\n",
       "      <td>201152</td>\n",
       "      <td>1.1</td>\n",
       "      <td>0</td>\n",
       "      <td>0</td>\n",
       "      <td>brian roberts</td>\n",
       "      <td>203148</td>\n",
       "    </tr>\n",
       "  </tbody>\n",
       "</table>\n",
       "<p>5 rows × 21 columns</p>\n",
       "</div>"
      ],
      "text/plain": [
       "    GAME_ID                   MATCHUP LOCATION  W  FINAL_MARGIN  SHOT_NUMBER  \\\n",
       "0  21400899  MAR 04, 2015 - CHA @ BKN        A  W            24            1   \n",
       "1  21400899  MAR 04, 2015 - CHA @ BKN        A  W            24            2   \n",
       "2  21400899  MAR 04, 2015 - CHA @ BKN        A  W            24            3   \n",
       "3  21400899  MAR 04, 2015 - CHA @ BKN        A  W            24            4   \n",
       "4  21400899  MAR 04, 2015 - CHA @ BKN        A  W            24            5   \n",
       "\n",
       "   PERIOD GAME_CLOCK  SHOT_CLOCK  DRIBBLES  ...  SHOT_DIST  PTS_TYPE  \\\n",
       "0       1       1:09        10.8         2  ...        7.7         2   \n",
       "1       1       0:14         3.4         0  ...       28.2         3   \n",
       "2       1       0:00         NaN         3  ...       10.1         2   \n",
       "3       2      11:47        10.3         2  ...       17.2         2   \n",
       "4       2      10:34        10.9         2  ...        3.7         2   \n",
       "\n",
       "   SHOT_RESULT   CLOSEST_DEFENDER CLOSEST_DEFENDER_PLAYER_ID  CLOSE_DEF_DIST  \\\n",
       "0         made     Anderson, Alan                     101187             1.3   \n",
       "1       missed  Bogdanovic, Bojan                     202711             6.1   \n",
       "2       missed  Bogdanovic, Bojan                     202711             0.9   \n",
       "3       missed      Brown, Markel                     203900             3.4   \n",
       "4       missed    Young, Thaddeus                     201152             1.1   \n",
       "\n",
       "   FGM  PTS    player_name player_id  \n",
       "0    1    2  brian roberts    203148  \n",
       "1    0    0  brian roberts    203148  \n",
       "2    0    0  brian roberts    203148  \n",
       "3    0    0  brian roberts    203148  \n",
       "4    0    0  brian roberts    203148  \n",
       "\n",
       "[5 rows x 21 columns]"
      ]
     },
     "execution_count": 3,
     "metadata": {},
     "output_type": "execute_result"
    }
   ],
   "source": [
    "# Visualize the head of the data frame\n",
    "df.head()"
   ]
  },
  {
   "cell_type": "markdown",
   "metadata": {},
   "source": [
    "#### TOUCH_TIME HAS NEG VALUES. DOESNT MAKE SENSE REPLACE WITH POSITIVE VALUES"
   ]
  },
  {
   "cell_type": "code",
   "execution_count": 4,
   "metadata": {},
   "outputs": [],
   "source": [
    "df.TOUCH_TIME = df.TOUCH_TIME.abs()"
   ]
  },
  {
   "cell_type": "markdown",
   "metadata": {},
   "source": [
    "#### CONVERT HOME_GAME TO ('H'=1, 'A'=0).  CONVERT GAME_WON TO ('W'=1, 'L'=0)"
   ]
  },
  {
   "cell_type": "code",
   "execution_count": 5,
   "metadata": {},
   "outputs": [],
   "source": [
    "df['HOME_GAME'] = np.where(df['LOCATION'] == 'H', 1, 0)\n",
    "df['GAME_WON'] = np.where(df['W'] == 'W', 1, 0)"
   ]
  },
  {
   "cell_type": "markdown",
   "metadata": {},
   "source": [
    "#### WE ARE ONLY INTERESTED IN THE MUMERICAL VALUES VIEW WITH DESCRIBE METHOD"
   ]
  },
  {
   "cell_type": "code",
   "execution_count": 6,
   "metadata": {},
   "outputs": [
    {
     "data": {
      "text/html": [
       "<div>\n",
       "<style scoped>\n",
       "    .dataframe tbody tr th:only-of-type {\n",
       "        vertical-align: middle;\n",
       "    }\n",
       "\n",
       "    .dataframe tbody tr th {\n",
       "        vertical-align: top;\n",
       "    }\n",
       "\n",
       "    .dataframe thead th {\n",
       "        text-align: right;\n",
       "    }\n",
       "</style>\n",
       "<table border=\"1\" class=\"dataframe\">\n",
       "  <thead>\n",
       "    <tr style=\"text-align: right;\">\n",
       "      <th></th>\n",
       "      <th>GAME_ID</th>\n",
       "      <th>FINAL_MARGIN</th>\n",
       "      <th>SHOT_NUMBER</th>\n",
       "      <th>PERIOD</th>\n",
       "      <th>SHOT_CLOCK</th>\n",
       "      <th>DRIBBLES</th>\n",
       "      <th>TOUCH_TIME</th>\n",
       "      <th>SHOT_DIST</th>\n",
       "      <th>PTS_TYPE</th>\n",
       "      <th>CLOSEST_DEFENDER_PLAYER_ID</th>\n",
       "      <th>CLOSE_DEF_DIST</th>\n",
       "      <th>FGM</th>\n",
       "      <th>PTS</th>\n",
       "      <th>player_id</th>\n",
       "      <th>HOME_GAME</th>\n",
       "      <th>GAME_WON</th>\n",
       "    </tr>\n",
       "  </thead>\n",
       "  <tbody>\n",
       "    <tr>\n",
       "      <th>count</th>\n",
       "      <td>1.280690e+05</td>\n",
       "      <td>128069.000000</td>\n",
       "      <td>128069.000000</td>\n",
       "      <td>128069.000000</td>\n",
       "      <td>122502.000000</td>\n",
       "      <td>128069.000000</td>\n",
       "      <td>128069.000000</td>\n",
       "      <td>128069.000000</td>\n",
       "      <td>128069.000000</td>\n",
       "      <td>128069.000000</td>\n",
       "      <td>128069.000000</td>\n",
       "      <td>128069.000000</td>\n",
       "      <td>128069.000000</td>\n",
       "      <td>128069.000000</td>\n",
       "      <td>128069.000000</td>\n",
       "      <td>128069.000000</td>\n",
       "    </tr>\n",
       "    <tr>\n",
       "      <th>mean</th>\n",
       "      <td>2.140045e+07</td>\n",
       "      <td>0.208723</td>\n",
       "      <td>6.506899</td>\n",
       "      <td>2.469427</td>\n",
       "      <td>12.453344</td>\n",
       "      <td>2.023355</td>\n",
       "      <td>2.778013</td>\n",
       "      <td>13.571504</td>\n",
       "      <td>2.264670</td>\n",
       "      <td>159038.487284</td>\n",
       "      <td>4.123015</td>\n",
       "      <td>0.452139</td>\n",
       "      <td>0.997314</td>\n",
       "      <td>157238.251247</td>\n",
       "      <td>0.499215</td>\n",
       "      <td>0.504377</td>\n",
       "    </tr>\n",
       "    <tr>\n",
       "      <th>std</th>\n",
       "      <td>2.578773e+02</td>\n",
       "      <td>13.233267</td>\n",
       "      <td>4.713260</td>\n",
       "      <td>1.139919</td>\n",
       "      <td>5.763265</td>\n",
       "      <td>3.477760</td>\n",
       "      <td>3.032631</td>\n",
       "      <td>8.888964</td>\n",
       "      <td>0.441159</td>\n",
       "      <td>78791.172947</td>\n",
       "      <td>2.756446</td>\n",
       "      <td>0.497706</td>\n",
       "      <td>1.130978</td>\n",
       "      <td>79362.389336</td>\n",
       "      <td>0.500001</td>\n",
       "      <td>0.499983</td>\n",
       "    </tr>\n",
       "    <tr>\n",
       "      <th>min</th>\n",
       "      <td>2.140000e+07</td>\n",
       "      <td>-53.000000</td>\n",
       "      <td>1.000000</td>\n",
       "      <td>1.000000</td>\n",
       "      <td>0.000000</td>\n",
       "      <td>0.000000</td>\n",
       "      <td>0.000000</td>\n",
       "      <td>0.000000</td>\n",
       "      <td>2.000000</td>\n",
       "      <td>708.000000</td>\n",
       "      <td>0.000000</td>\n",
       "      <td>0.000000</td>\n",
       "      <td>0.000000</td>\n",
       "      <td>708.000000</td>\n",
       "      <td>0.000000</td>\n",
       "      <td>0.000000</td>\n",
       "    </tr>\n",
       "    <tr>\n",
       "      <th>25%</th>\n",
       "      <td>2.140023e+07</td>\n",
       "      <td>-8.000000</td>\n",
       "      <td>3.000000</td>\n",
       "      <td>1.000000</td>\n",
       "      <td>8.200000</td>\n",
       "      <td>0.000000</td>\n",
       "      <td>0.900000</td>\n",
       "      <td>4.700000</td>\n",
       "      <td>2.000000</td>\n",
       "      <td>101249.000000</td>\n",
       "      <td>2.300000</td>\n",
       "      <td>0.000000</td>\n",
       "      <td>0.000000</td>\n",
       "      <td>101162.000000</td>\n",
       "      <td>0.000000</td>\n",
       "      <td>0.000000</td>\n",
       "    </tr>\n",
       "    <tr>\n",
       "      <th>50%</th>\n",
       "      <td>2.140045e+07</td>\n",
       "      <td>1.000000</td>\n",
       "      <td>5.000000</td>\n",
       "      <td>2.000000</td>\n",
       "      <td>12.300000</td>\n",
       "      <td>1.000000</td>\n",
       "      <td>1.600000</td>\n",
       "      <td>13.700000</td>\n",
       "      <td>2.000000</td>\n",
       "      <td>201949.000000</td>\n",
       "      <td>3.700000</td>\n",
       "      <td>0.000000</td>\n",
       "      <td>0.000000</td>\n",
       "      <td>201939.000000</td>\n",
       "      <td>0.000000</td>\n",
       "      <td>1.000000</td>\n",
       "    </tr>\n",
       "    <tr>\n",
       "      <th>75%</th>\n",
       "      <td>2.140067e+07</td>\n",
       "      <td>9.000000</td>\n",
       "      <td>9.000000</td>\n",
       "      <td>3.000000</td>\n",
       "      <td>16.675000</td>\n",
       "      <td>2.000000</td>\n",
       "      <td>3.700000</td>\n",
       "      <td>22.500000</td>\n",
       "      <td>3.000000</td>\n",
       "      <td>203079.000000</td>\n",
       "      <td>5.300000</td>\n",
       "      <td>1.000000</td>\n",
       "      <td>2.000000</td>\n",
       "      <td>202704.000000</td>\n",
       "      <td>1.000000</td>\n",
       "      <td>1.000000</td>\n",
       "    </tr>\n",
       "    <tr>\n",
       "      <th>max</th>\n",
       "      <td>2.140091e+07</td>\n",
       "      <td>53.000000</td>\n",
       "      <td>38.000000</td>\n",
       "      <td>7.000000</td>\n",
       "      <td>24.000000</td>\n",
       "      <td>32.000000</td>\n",
       "      <td>163.600000</td>\n",
       "      <td>47.200000</td>\n",
       "      <td>3.000000</td>\n",
       "      <td>530027.000000</td>\n",
       "      <td>53.200000</td>\n",
       "      <td>1.000000</td>\n",
       "      <td>3.000000</td>\n",
       "      <td>204060.000000</td>\n",
       "      <td>1.000000</td>\n",
       "      <td>1.000000</td>\n",
       "    </tr>\n",
       "  </tbody>\n",
       "</table>\n",
       "</div>"
      ],
      "text/plain": [
       "            GAME_ID   FINAL_MARGIN    SHOT_NUMBER         PERIOD  \\\n",
       "count  1.280690e+05  128069.000000  128069.000000  128069.000000   \n",
       "mean   2.140045e+07       0.208723       6.506899       2.469427   \n",
       "std    2.578773e+02      13.233267       4.713260       1.139919   \n",
       "min    2.140000e+07     -53.000000       1.000000       1.000000   \n",
       "25%    2.140023e+07      -8.000000       3.000000       1.000000   \n",
       "50%    2.140045e+07       1.000000       5.000000       2.000000   \n",
       "75%    2.140067e+07       9.000000       9.000000       3.000000   \n",
       "max    2.140091e+07      53.000000      38.000000       7.000000   \n",
       "\n",
       "          SHOT_CLOCK       DRIBBLES     TOUCH_TIME      SHOT_DIST  \\\n",
       "count  122502.000000  128069.000000  128069.000000  128069.000000   \n",
       "mean       12.453344       2.023355       2.778013      13.571504   \n",
       "std         5.763265       3.477760       3.032631       8.888964   \n",
       "min         0.000000       0.000000       0.000000       0.000000   \n",
       "25%         8.200000       0.000000       0.900000       4.700000   \n",
       "50%        12.300000       1.000000       1.600000      13.700000   \n",
       "75%        16.675000       2.000000       3.700000      22.500000   \n",
       "max        24.000000      32.000000     163.600000      47.200000   \n",
       "\n",
       "            PTS_TYPE  CLOSEST_DEFENDER_PLAYER_ID  CLOSE_DEF_DIST  \\\n",
       "count  128069.000000               128069.000000   128069.000000   \n",
       "mean        2.264670               159038.487284        4.123015   \n",
       "std         0.441159                78791.172947        2.756446   \n",
       "min         2.000000                  708.000000        0.000000   \n",
       "25%         2.000000               101249.000000        2.300000   \n",
       "50%         2.000000               201949.000000        3.700000   \n",
       "75%         3.000000               203079.000000        5.300000   \n",
       "max         3.000000               530027.000000       53.200000   \n",
       "\n",
       "                 FGM            PTS      player_id      HOME_GAME  \\\n",
       "count  128069.000000  128069.000000  128069.000000  128069.000000   \n",
       "mean        0.452139       0.997314  157238.251247       0.499215   \n",
       "std         0.497706       1.130978   79362.389336       0.500001   \n",
       "min         0.000000       0.000000     708.000000       0.000000   \n",
       "25%         0.000000       0.000000  101162.000000       0.000000   \n",
       "50%         0.000000       0.000000  201939.000000       0.000000   \n",
       "75%         1.000000       2.000000  202704.000000       1.000000   \n",
       "max         1.000000       3.000000  204060.000000       1.000000   \n",
       "\n",
       "            GAME_WON  \n",
       "count  128069.000000  \n",
       "mean        0.504377  \n",
       "std         0.499983  \n",
       "min         0.000000  \n",
       "25%         0.000000  \n",
       "50%         1.000000  \n",
       "75%         1.000000  \n",
       "max         1.000000  "
      ]
     },
     "execution_count": 6,
     "metadata": {},
     "output_type": "execute_result"
    }
   ],
   "source": [
    "df.describe()"
   ]
  },
  {
   "cell_type": "code",
   "execution_count": 7,
   "metadata": {},
   "outputs": [
    {
     "data": {
      "text/html": [
       "<div>\n",
       "<style scoped>\n",
       "    .dataframe tbody tr th:only-of-type {\n",
       "        vertical-align: middle;\n",
       "    }\n",
       "\n",
       "    .dataframe tbody tr th {\n",
       "        vertical-align: top;\n",
       "    }\n",
       "\n",
       "    .dataframe thead th {\n",
       "        text-align: right;\n",
       "    }\n",
       "</style>\n",
       "<table border=\"1\" class=\"dataframe\">\n",
       "  <thead>\n",
       "    <tr style=\"text-align: right;\">\n",
       "      <th></th>\n",
       "      <th>GAME_ID</th>\n",
       "      <th>MATCHUP</th>\n",
       "      <th>LOCATION</th>\n",
       "      <th>W</th>\n",
       "      <th>FINAL_MARGIN</th>\n",
       "      <th>SHOT_NUMBER</th>\n",
       "      <th>PERIOD</th>\n",
       "      <th>GAME_CLOCK</th>\n",
       "      <th>SHOT_CLOCK</th>\n",
       "      <th>DRIBBLES</th>\n",
       "      <th>...</th>\n",
       "      <th>SHOT_RESULT</th>\n",
       "      <th>CLOSEST_DEFENDER</th>\n",
       "      <th>CLOSEST_DEFENDER_PLAYER_ID</th>\n",
       "      <th>CLOSE_DEF_DIST</th>\n",
       "      <th>FGM</th>\n",
       "      <th>PTS</th>\n",
       "      <th>player_name</th>\n",
       "      <th>player_id</th>\n",
       "      <th>HOME_GAME</th>\n",
       "      <th>GAME_WON</th>\n",
       "    </tr>\n",
       "  </thead>\n",
       "  <tbody>\n",
       "    <tr>\n",
       "      <th>0</th>\n",
       "      <td>21400899</td>\n",
       "      <td>MAR 04, 2015 - CHA @ BKN</td>\n",
       "      <td>A</td>\n",
       "      <td>W</td>\n",
       "      <td>24</td>\n",
       "      <td>1</td>\n",
       "      <td>1</td>\n",
       "      <td>1:09</td>\n",
       "      <td>10.8</td>\n",
       "      <td>2</td>\n",
       "      <td>...</td>\n",
       "      <td>made</td>\n",
       "      <td>Anderson, Alan</td>\n",
       "      <td>101187</td>\n",
       "      <td>1.3</td>\n",
       "      <td>1</td>\n",
       "      <td>2</td>\n",
       "      <td>brian roberts</td>\n",
       "      <td>203148</td>\n",
       "      <td>0</td>\n",
       "      <td>1</td>\n",
       "    </tr>\n",
       "    <tr>\n",
       "      <th>1</th>\n",
       "      <td>21400899</td>\n",
       "      <td>MAR 04, 2015 - CHA @ BKN</td>\n",
       "      <td>A</td>\n",
       "      <td>W</td>\n",
       "      <td>24</td>\n",
       "      <td>2</td>\n",
       "      <td>1</td>\n",
       "      <td>0:14</td>\n",
       "      <td>3.4</td>\n",
       "      <td>0</td>\n",
       "      <td>...</td>\n",
       "      <td>missed</td>\n",
       "      <td>Bogdanovic, Bojan</td>\n",
       "      <td>202711</td>\n",
       "      <td>6.1</td>\n",
       "      <td>0</td>\n",
       "      <td>0</td>\n",
       "      <td>brian roberts</td>\n",
       "      <td>203148</td>\n",
       "      <td>0</td>\n",
       "      <td>1</td>\n",
       "    </tr>\n",
       "    <tr>\n",
       "      <th>2</th>\n",
       "      <td>21400899</td>\n",
       "      <td>MAR 04, 2015 - CHA @ BKN</td>\n",
       "      <td>A</td>\n",
       "      <td>W</td>\n",
       "      <td>24</td>\n",
       "      <td>3</td>\n",
       "      <td>1</td>\n",
       "      <td>0:00</td>\n",
       "      <td>NaN</td>\n",
       "      <td>3</td>\n",
       "      <td>...</td>\n",
       "      <td>missed</td>\n",
       "      <td>Bogdanovic, Bojan</td>\n",
       "      <td>202711</td>\n",
       "      <td>0.9</td>\n",
       "      <td>0</td>\n",
       "      <td>0</td>\n",
       "      <td>brian roberts</td>\n",
       "      <td>203148</td>\n",
       "      <td>0</td>\n",
       "      <td>1</td>\n",
       "    </tr>\n",
       "    <tr>\n",
       "      <th>3</th>\n",
       "      <td>21400899</td>\n",
       "      <td>MAR 04, 2015 - CHA @ BKN</td>\n",
       "      <td>A</td>\n",
       "      <td>W</td>\n",
       "      <td>24</td>\n",
       "      <td>4</td>\n",
       "      <td>2</td>\n",
       "      <td>11:47</td>\n",
       "      <td>10.3</td>\n",
       "      <td>2</td>\n",
       "      <td>...</td>\n",
       "      <td>missed</td>\n",
       "      <td>Brown, Markel</td>\n",
       "      <td>203900</td>\n",
       "      <td>3.4</td>\n",
       "      <td>0</td>\n",
       "      <td>0</td>\n",
       "      <td>brian roberts</td>\n",
       "      <td>203148</td>\n",
       "      <td>0</td>\n",
       "      <td>1</td>\n",
       "    </tr>\n",
       "    <tr>\n",
       "      <th>4</th>\n",
       "      <td>21400899</td>\n",
       "      <td>MAR 04, 2015 - CHA @ BKN</td>\n",
       "      <td>A</td>\n",
       "      <td>W</td>\n",
       "      <td>24</td>\n",
       "      <td>5</td>\n",
       "      <td>2</td>\n",
       "      <td>10:34</td>\n",
       "      <td>10.9</td>\n",
       "      <td>2</td>\n",
       "      <td>...</td>\n",
       "      <td>missed</td>\n",
       "      <td>Young, Thaddeus</td>\n",
       "      <td>201152</td>\n",
       "      <td>1.1</td>\n",
       "      <td>0</td>\n",
       "      <td>0</td>\n",
       "      <td>brian roberts</td>\n",
       "      <td>203148</td>\n",
       "      <td>0</td>\n",
       "      <td>1</td>\n",
       "    </tr>\n",
       "  </tbody>\n",
       "</table>\n",
       "<p>5 rows × 23 columns</p>\n",
       "</div>"
      ],
      "text/plain": [
       "    GAME_ID                   MATCHUP LOCATION  W  FINAL_MARGIN  SHOT_NUMBER  \\\n",
       "0  21400899  MAR 04, 2015 - CHA @ BKN        A  W            24            1   \n",
       "1  21400899  MAR 04, 2015 - CHA @ BKN        A  W            24            2   \n",
       "2  21400899  MAR 04, 2015 - CHA @ BKN        A  W            24            3   \n",
       "3  21400899  MAR 04, 2015 - CHA @ BKN        A  W            24            4   \n",
       "4  21400899  MAR 04, 2015 - CHA @ BKN        A  W            24            5   \n",
       "\n",
       "   PERIOD GAME_CLOCK  SHOT_CLOCK  DRIBBLES  ...  SHOT_RESULT  \\\n",
       "0       1       1:09        10.8         2  ...         made   \n",
       "1       1       0:14         3.4         0  ...       missed   \n",
       "2       1       0:00         NaN         3  ...       missed   \n",
       "3       2      11:47        10.3         2  ...       missed   \n",
       "4       2      10:34        10.9         2  ...       missed   \n",
       "\n",
       "    CLOSEST_DEFENDER  CLOSEST_DEFENDER_PLAYER_ID CLOSE_DEF_DIST FGM  PTS  \\\n",
       "0     Anderson, Alan                      101187            1.3   1    2   \n",
       "1  Bogdanovic, Bojan                      202711            6.1   0    0   \n",
       "2  Bogdanovic, Bojan                      202711            0.9   0    0   \n",
       "3      Brown, Markel                      203900            3.4   0    0   \n",
       "4    Young, Thaddeus                      201152            1.1   0    0   \n",
       "\n",
       "     player_name  player_id  HOME_GAME GAME_WON  \n",
       "0  brian roberts     203148          0        1  \n",
       "1  brian roberts     203148          0        1  \n",
       "2  brian roberts     203148          0        1  \n",
       "3  brian roberts     203148          0        1  \n",
       "4  brian roberts     203148          0        1  \n",
       "\n",
       "[5 rows x 23 columns]"
      ]
     },
     "execution_count": 7,
     "metadata": {},
     "output_type": "execute_result"
    }
   ],
   "source": [
    "df.head()"
   ]
  },
  {
   "cell_type": "markdown",
   "metadata": {},
   "source": [
    "#### REPLACE MISSING SHOT_CLOCK VALUES WITH MEAN (THESE ARE THE ONLY MISSING VALUES)"
   ]
  },
  {
   "cell_type": "code",
   "execution_count": 8,
   "metadata": {},
   "outputs": [],
   "source": [
    "df = df.fillna(df.SHOT_CLOCK.mean())"
   ]
  },
  {
   "cell_type": "code",
   "execution_count": 9,
   "metadata": {
    "scrolled": true
   },
   "outputs": [
    {
     "data": {
      "text/plain": [
       "GAME_ID                       0\n",
       "MATCHUP                       0\n",
       "LOCATION                      0\n",
       "W                             0\n",
       "FINAL_MARGIN                  0\n",
       "SHOT_NUMBER                   0\n",
       "PERIOD                        0\n",
       "GAME_CLOCK                    0\n",
       "SHOT_CLOCK                    0\n",
       "DRIBBLES                      0\n",
       "TOUCH_TIME                    0\n",
       "SHOT_DIST                     0\n",
       "PTS_TYPE                      0\n",
       "SHOT_RESULT                   0\n",
       "CLOSEST_DEFENDER              0\n",
       "CLOSEST_DEFENDER_PLAYER_ID    0\n",
       "CLOSE_DEF_DIST                0\n",
       "FGM                           0\n",
       "PTS                           0\n",
       "player_name                   0\n",
       "player_id                     0\n",
       "HOME_GAME                     0\n",
       "GAME_WON                      0\n",
       "dtype: int64"
      ]
     },
     "execution_count": 9,
     "metadata": {},
     "output_type": "execute_result"
    }
   ],
   "source": [
    "# check for null values\n",
    "df.isnull().sum()"
   ]
  },
  {
   "cell_type": "markdown",
   "metadata": {},
   "source": [
    "#### CREATE DATAFRAME FOR MODELING WITH ONLY RELEVANT NUMERICAL FEATURES AND FGM TARGET"
   ]
  },
  {
   "cell_type": "code",
   "execution_count": 10,
   "metadata": {},
   "outputs": [],
   "source": [
    "data = df[['FINAL_MARGIN','SHOT_NUMBER','PERIOD','SHOT_CLOCK','DRIBBLES','TOUCH_TIME','SHOT_DIST','PTS_TYPE','CLOSE_DEF_DIST','HOME_GAME','GAME_WON','FGM']]"
   ]
  },
  {
   "cell_type": "code",
   "execution_count": 11,
   "metadata": {
    "scrolled": true
   },
   "outputs": [
    {
     "data": {
      "text/html": [
       "<div>\n",
       "<style scoped>\n",
       "    .dataframe tbody tr th:only-of-type {\n",
       "        vertical-align: middle;\n",
       "    }\n",
       "\n",
       "    .dataframe tbody tr th {\n",
       "        vertical-align: top;\n",
       "    }\n",
       "\n",
       "    .dataframe thead th {\n",
       "        text-align: right;\n",
       "    }\n",
       "</style>\n",
       "<table border=\"1\" class=\"dataframe\">\n",
       "  <thead>\n",
       "    <tr style=\"text-align: right;\">\n",
       "      <th></th>\n",
       "      <th>FINAL_MARGIN</th>\n",
       "      <th>SHOT_NUMBER</th>\n",
       "      <th>PERIOD</th>\n",
       "      <th>SHOT_CLOCK</th>\n",
       "      <th>DRIBBLES</th>\n",
       "      <th>TOUCH_TIME</th>\n",
       "      <th>SHOT_DIST</th>\n",
       "      <th>PTS_TYPE</th>\n",
       "      <th>CLOSE_DEF_DIST</th>\n",
       "      <th>HOME_GAME</th>\n",
       "      <th>GAME_WON</th>\n",
       "      <th>FGM</th>\n",
       "    </tr>\n",
       "  </thead>\n",
       "  <tbody>\n",
       "    <tr>\n",
       "      <th>0</th>\n",
       "      <td>24</td>\n",
       "      <td>1</td>\n",
       "      <td>1</td>\n",
       "      <td>10.800000</td>\n",
       "      <td>2</td>\n",
       "      <td>1.9</td>\n",
       "      <td>7.7</td>\n",
       "      <td>2</td>\n",
       "      <td>1.3</td>\n",
       "      <td>0</td>\n",
       "      <td>1</td>\n",
       "      <td>1</td>\n",
       "    </tr>\n",
       "    <tr>\n",
       "      <th>1</th>\n",
       "      <td>24</td>\n",
       "      <td>2</td>\n",
       "      <td>1</td>\n",
       "      <td>3.400000</td>\n",
       "      <td>0</td>\n",
       "      <td>0.8</td>\n",
       "      <td>28.2</td>\n",
       "      <td>3</td>\n",
       "      <td>6.1</td>\n",
       "      <td>0</td>\n",
       "      <td>1</td>\n",
       "      <td>0</td>\n",
       "    </tr>\n",
       "    <tr>\n",
       "      <th>2</th>\n",
       "      <td>24</td>\n",
       "      <td>3</td>\n",
       "      <td>1</td>\n",
       "      <td>12.453344</td>\n",
       "      <td>3</td>\n",
       "      <td>2.7</td>\n",
       "      <td>10.1</td>\n",
       "      <td>2</td>\n",
       "      <td>0.9</td>\n",
       "      <td>0</td>\n",
       "      <td>1</td>\n",
       "      <td>0</td>\n",
       "    </tr>\n",
       "    <tr>\n",
       "      <th>3</th>\n",
       "      <td>24</td>\n",
       "      <td>4</td>\n",
       "      <td>2</td>\n",
       "      <td>10.300000</td>\n",
       "      <td>2</td>\n",
       "      <td>1.9</td>\n",
       "      <td>17.2</td>\n",
       "      <td>2</td>\n",
       "      <td>3.4</td>\n",
       "      <td>0</td>\n",
       "      <td>1</td>\n",
       "      <td>0</td>\n",
       "    </tr>\n",
       "    <tr>\n",
       "      <th>4</th>\n",
       "      <td>24</td>\n",
       "      <td>5</td>\n",
       "      <td>2</td>\n",
       "      <td>10.900000</td>\n",
       "      <td>2</td>\n",
       "      <td>2.7</td>\n",
       "      <td>3.7</td>\n",
       "      <td>2</td>\n",
       "      <td>1.1</td>\n",
       "      <td>0</td>\n",
       "      <td>1</td>\n",
       "      <td>0</td>\n",
       "    </tr>\n",
       "  </tbody>\n",
       "</table>\n",
       "</div>"
      ],
      "text/plain": [
       "   FINAL_MARGIN  SHOT_NUMBER  PERIOD  SHOT_CLOCK  DRIBBLES  TOUCH_TIME  \\\n",
       "0            24            1       1   10.800000         2         1.9   \n",
       "1            24            2       1    3.400000         0         0.8   \n",
       "2            24            3       1   12.453344         3         2.7   \n",
       "3            24            4       2   10.300000         2         1.9   \n",
       "4            24            5       2   10.900000         2         2.7   \n",
       "\n",
       "   SHOT_DIST  PTS_TYPE  CLOSE_DEF_DIST  HOME_GAME  GAME_WON  FGM  \n",
       "0        7.7         2             1.3          0         1    1  \n",
       "1       28.2         3             6.1          0         1    0  \n",
       "2       10.1         2             0.9          0         1    0  \n",
       "3       17.2         2             3.4          0         1    0  \n",
       "4        3.7         2             1.1          0         1    0  "
      ]
     },
     "execution_count": 11,
     "metadata": {},
     "output_type": "execute_result"
    }
   ],
   "source": [
    "data.head()"
   ]
  },
  {
   "cell_type": "markdown",
   "metadata": {},
   "source": [
    "#### WE KNOW FROM PREVIOUS ANALYSIS THERE IS A 20% TARGET CLASS IMBALANCE. ADDRESS WITH SMOTE"
   ]
  },
  {
   "cell_type": "code",
   "execution_count": 12,
   "metadata": {},
   "outputs": [
    {
     "data": {
      "text/plain": [
       "(128069, 12)"
      ]
     },
     "execution_count": 12,
     "metadata": {},
     "output_type": "execute_result"
    }
   ],
   "source": [
    "df_a = data\n",
    "df_a.shape"
   ]
  },
  {
   "cell_type": "code",
   "execution_count": 13,
   "metadata": {},
   "outputs": [
    {
     "name": "stdout",
     "output_type": "stream",
     "text": [
      "(128069, 11) (128069,)\n"
     ]
    }
   ],
   "source": [
    "#Prepare the Data for SMOTE\n",
    "X_a = df_a.drop(['FGM'], axis=1)\n",
    "y_a = df_a.FGM\n",
    "print(X_a.shape, y_a.shape)"
   ]
  },
  {
   "cell_type": "code",
   "execution_count": 14,
   "metadata": {},
   "outputs": [
    {
     "data": {
      "text/plain": [
       "0    70164\n",
       "1    57905\n",
       "Name: FGM, dtype: int64"
      ]
     },
     "execution_count": 14,
     "metadata": {},
     "output_type": "execute_result"
    }
   ],
   "source": [
    "# Value Counts to inspect the Imbalance\n",
    "y_a.value_counts()"
   ]
  },
  {
   "cell_type": "code",
   "execution_count": 15,
   "metadata": {},
   "outputs": [],
   "source": [
    "# SMOTE resampling\n",
    "X_resampled, y_resampled = SMOTE(random_state=10).fit_sample(X_a, y_a)"
   ]
  },
  {
   "cell_type": "code",
   "execution_count": 16,
   "metadata": {},
   "outputs": [],
   "source": [
    "# Return the features and target back into a Pandas DataFrames\n",
    "df_X = pd.DataFrame(X_resampled, columns=X_a.columns)\n",
    "df_y = pd.DataFrame(y_resampled, columns=['FGM'])"
   ]
  },
  {
   "cell_type": "code",
   "execution_count": 17,
   "metadata": {},
   "outputs": [
    {
     "data": {
      "text/html": [
       "<div>\n",
       "<style scoped>\n",
       "    .dataframe tbody tr th:only-of-type {\n",
       "        vertical-align: middle;\n",
       "    }\n",
       "\n",
       "    .dataframe tbody tr th {\n",
       "        vertical-align: top;\n",
       "    }\n",
       "\n",
       "    .dataframe thead th {\n",
       "        text-align: right;\n",
       "    }\n",
       "</style>\n",
       "<table border=\"1\" class=\"dataframe\">\n",
       "  <thead>\n",
       "    <tr style=\"text-align: right;\">\n",
       "      <th></th>\n",
       "      <th>FINAL_MARGIN</th>\n",
       "      <th>SHOT_NUMBER</th>\n",
       "      <th>PERIOD</th>\n",
       "      <th>SHOT_CLOCK</th>\n",
       "      <th>DRIBBLES</th>\n",
       "      <th>TOUCH_TIME</th>\n",
       "      <th>SHOT_DIST</th>\n",
       "      <th>PTS_TYPE</th>\n",
       "      <th>CLOSE_DEF_DIST</th>\n",
       "      <th>HOME_GAME</th>\n",
       "      <th>GAME_WON</th>\n",
       "      <th>FGM</th>\n",
       "    </tr>\n",
       "  </thead>\n",
       "  <tbody>\n",
       "    <tr>\n",
       "      <th>0</th>\n",
       "      <td>24.0</td>\n",
       "      <td>1.0</td>\n",
       "      <td>1.0</td>\n",
       "      <td>10.8</td>\n",
       "      <td>2.0</td>\n",
       "      <td>1.9</td>\n",
       "      <td>7.7</td>\n",
       "      <td>2.0</td>\n",
       "      <td>1.3</td>\n",
       "      <td>0.0</td>\n",
       "      <td>1.0</td>\n",
       "      <td>1</td>\n",
       "    </tr>\n",
       "    <tr>\n",
       "      <th>1</th>\n",
       "      <td>24.0</td>\n",
       "      <td>2.0</td>\n",
       "      <td>1.0</td>\n",
       "      <td>3.4</td>\n",
       "      <td>0.0</td>\n",
       "      <td>0.8</td>\n",
       "      <td>28.2</td>\n",
       "      <td>3.0</td>\n",
       "      <td>6.1</td>\n",
       "      <td>0.0</td>\n",
       "      <td>1.0</td>\n",
       "      <td>0</td>\n",
       "    </tr>\n",
       "  </tbody>\n",
       "</table>\n",
       "</div>"
      ],
      "text/plain": [
       "   FINAL_MARGIN  SHOT_NUMBER  PERIOD  SHOT_CLOCK  DRIBBLES  TOUCH_TIME  \\\n",
       "0          24.0          1.0     1.0        10.8       2.0         1.9   \n",
       "1          24.0          2.0     1.0         3.4       0.0         0.8   \n",
       "\n",
       "   SHOT_DIST  PTS_TYPE  CLOSE_DEF_DIST  HOME_GAME  GAME_WON  FGM  \n",
       "0        7.7       2.0             1.3        0.0       1.0    1  \n",
       "1       28.2       3.0             6.1        0.0       1.0    0  "
      ]
     },
     "execution_count": 17,
     "metadata": {},
     "output_type": "execute_result"
    }
   ],
   "source": [
    "data = pd.concat([df_X, df_y], axis=1)\n",
    "data.head(2)"
   ]
  },
  {
   "cell_type": "code",
   "execution_count": 18,
   "metadata": {},
   "outputs": [
    {
     "name": "stdout",
     "output_type": "stream",
     "text": [
      "<class 'pandas.core.frame.DataFrame'>\n",
      "RangeIndex: 140328 entries, 0 to 140327\n",
      "Data columns (total 12 columns):\n",
      "FINAL_MARGIN      140328 non-null float64\n",
      "SHOT_NUMBER       140328 non-null float64\n",
      "PERIOD            140328 non-null float64\n",
      "SHOT_CLOCK        140328 non-null float64\n",
      "DRIBBLES          140328 non-null float64\n",
      "TOUCH_TIME        140328 non-null float64\n",
      "SHOT_DIST         140328 non-null float64\n",
      "PTS_TYPE          140328 non-null float64\n",
      "CLOSE_DEF_DIST    140328 non-null float64\n",
      "HOME_GAME         140328 non-null float64\n",
      "GAME_WON          140328 non-null float64\n",
      "FGM               140328 non-null int64\n",
      "dtypes: float64(11), int64(1)\n",
      "memory usage: 12.8 MB\n"
     ]
    }
   ],
   "source": [
    "data.info()"
   ]
  },
  {
   "cell_type": "code",
   "execution_count": 19,
   "metadata": {},
   "outputs": [
    {
     "data": {
      "text/plain": [
       "FINAL_MARGIN      0\n",
       "SHOT_NUMBER       0\n",
       "PERIOD            0\n",
       "SHOT_CLOCK        0\n",
       "DRIBBLES          0\n",
       "TOUCH_TIME        0\n",
       "SHOT_DIST         0\n",
       "PTS_TYPE          0\n",
       "CLOSE_DEF_DIST    0\n",
       "HOME_GAME         0\n",
       "GAME_WON          0\n",
       "FGM               0\n",
       "dtype: int64"
      ]
     },
     "execution_count": 19,
     "metadata": {},
     "output_type": "execute_result"
    }
   ],
   "source": [
    "data.isnull().sum()"
   ]
  },
  {
   "cell_type": "markdown",
   "metadata": {},
   "source": [
    "#### CREATE FEATURES AND TARGET"
   ]
  },
  {
   "cell_type": "code",
   "execution_count": 20,
   "metadata": {},
   "outputs": [
    {
     "data": {
      "text/plain": [
       "((140328,), (140328, 11))"
      ]
     },
     "execution_count": 20,
     "metadata": {},
     "output_type": "execute_result"
    }
   ],
   "source": [
    "features = data.drop(['FGM'], axis=1)\n",
    "target = data.FGM\n",
    "target.shape, features.shape"
   ]
  },
  {
   "cell_type": "markdown",
   "metadata": {},
   "source": [
    "#### INSPECT THE BALANCE OF THE TARGET CLASS"
   ]
  },
  {
   "cell_type": "code",
   "execution_count": 21,
   "metadata": {},
   "outputs": [
    {
     "data": {
      "text/plain": [
       "1    70164\n",
       "0    70164\n",
       "Name: FGM, dtype: int64"
      ]
     },
     "execution_count": 21,
     "metadata": {},
     "output_type": "execute_result"
    }
   ],
   "source": [
    "target.value_counts()"
   ]
  },
  {
   "cell_type": "markdown",
   "metadata": {},
   "source": [
    "#### VISUALIZE THE DISTRIBUTIONS OF THE FEATURES"
   ]
  },
  {
   "cell_type": "code",
   "execution_count": 22,
   "metadata": {},
   "outputs": [
    {
     "data": {
      "image/png": "[encoded data removed]",
      "text/plain": [
       "<Figure size 1440x720 with 12 Axes>"
      ]
     },
     "metadata": {
      "needs_background": "light"
     },
     "output_type": "display_data"
    }
   ],
   "source": [
    "# Visualize features\n",
    "features.hist(figsize=(20,10), color=\"teal\")\n",
    "plt.tight_layout()\n",
    "plt.show()"
   ]
  },
  {
   "cell_type": "markdown",
   "metadata": {},
   "source": [
    "#### VISUALIZE THE CORRELATION BETWEEN FEATURES AND TARGET"
   ]
  },
  {
   "cell_type": "code",
   "execution_count": 23,
   "metadata": {},
   "outputs": [
    {
     "data": {
      "image/png": "[encoded data removed]",
      "text/plain": [
       "<Figure size 1152x360 with 1 Axes>"
      ]
     },
     "metadata": {
      "needs_background": "light"
     },
     "output_type": "display_data"
    }
   ],
   "source": [
    "# Investigate the correlation between Target class and features\n",
    "features.corrwith(target).plot.bar(\n",
    "        figsize = (16, 5), color='teal', title = \"Feature Correlation with Feild Goals Made-FGM\", fontsize = 15,\n",
    "        rot = 90, grid = True)\n",
    "plt.show()"
   ]
  },
  {
   "cell_type": "markdown",
   "metadata": {},
   "source": [
    "#### FEATURE ENGINEERING COMBINE BEST FEATURES BASED ON POITIVE OR NEGATIVE CORRELATION"
   ]
  },
  {
   "cell_type": "code",
   "execution_count": 24,
   "metadata": {},
   "outputs": [],
   "source": [
    "data2 = data.copy()"
   ]
  },
  {
   "cell_type": "code",
   "execution_count": 25,
   "metadata": {},
   "outputs": [],
   "source": [
    "# create new colums for engineered features\n",
    "data2['A'] = data2.SHOT_DIST + data2.PTS_TYPE\n",
    "data2['B'] = data2.TOUCH_TIME + data2.DRIBBLES + data2.PERIOD + data2.SHOT_NUMBER\n",
    "data2['C'] = data2.SHOT_CLOCK + data2.FINAL_MARGIN\n",
    "data2['D'] = data2.HOME_GAME + data2.CLOSE_DEF_DIST + data2.GAME_WON"
   ]
  },
  {
   "cell_type": "code",
   "execution_count": 26,
   "metadata": {},
   "outputs": [
    {
     "data": {
      "text/plain": [
       "((140328,), (140328, 4))"
      ]
     },
     "execution_count": 26,
     "metadata": {},
     "output_type": "execute_result"
    }
   ],
   "source": [
    "# Define features and Target for engineered features\n",
    "features2 = data2[['A', 'B', 'C', 'D']]\n",
    "target2 = data2['FGM']\n",
    "target2.shape, features2.shape"
   ]
  },
  {
   "cell_type": "markdown",
   "metadata": {},
   "source": [
    "#### INSPECT THE CORRELATION BETWEEN ENGINEERED FEATURES AND TARGET"
   ]
  },
  {
   "cell_type": "code",
   "execution_count": 27,
   "metadata": {},
   "outputs": [
    {
     "data": {
      "image/png": "[encoded data removed]",
      "text/plain": [
       "<Figure size 1152x360 with 1 Axes>"
      ]
     },
     "metadata": {
      "needs_background": "light"
     },
     "output_type": "display_data"
    }
   ],
   "source": [
    "# Investigate the correlation between Target class and  Engineered features\n",
    "features2.corrwith(target2).plot.bar(\n",
    "        figsize = (16, 5), color='r', title = \"Engineered Feature Correlation with Feild Goals Made-FGM\", fontsize = 15,\n",
    "        rot = 90, grid = True)\n",
    "plt.show()"
   ]
  },
  {
   "cell_type": "markdown",
   "metadata": {},
   "source": [
    "#### VISUALIZE HOW FEATURES DIFFER BETWEEN TARGET CLASS"
   ]
  },
  {
   "cell_type": "code",
   "execution_count": 28,
   "metadata": {},
   "outputs": [
    {
     "data": {
      "image/png": "[encoded data removed]",
      "text/plain": [
       "<Figure size 1080x360 with 1 Axes>"
      ]
     },
     "metadata": {
      "needs_background": "light"
     },
     "output_type": "display_data"
    }
   ],
   "source": [
    "topfeatures = features.columns\n",
    "data.groupby('FGM')[topfeatures].mean().plot.bar(figsize=(15,5))\n",
    "plt.legend(loc='upper right',fontsize=10)\n",
    "plt.title('Feature Mean by Target Class', fontsize=16)\n",
    "plt.ylabel('Feature Avg', fontsize=14)\n",
    "plt.show()"
   ]
  },
  {
   "cell_type": "markdown",
   "metadata": {},
   "source": [
    "#### VISUALIZE HOW ENGINEERED FEATURES DIFFER BETWEEN TARGET CLASS"
   ]
  },
  {
   "cell_type": "code",
   "execution_count": 29,
   "metadata": {},
   "outputs": [
    {
     "data": {
      "image/png": "[encoded data removed]",
      "text/plain": [
       "<Figure size 1080x360 with 1 Axes>"
      ]
     },
     "metadata": {
      "needs_background": "light"
     },
     "output_type": "display_data"
    }
   ],
   "source": [
    "topfeatures = features2.columns\n",
    "data2.groupby('FGM')[topfeatures].mean().plot.bar(figsize=(15,5))\n",
    "plt.legend(loc='best')\n",
    "plt.title('Engineered Feature Mean by Target Class', fontsize=16)\n",
    "plt.ylabel('Feature Avg', fontsize=14)\n",
    "plt.show()"
   ]
  },
  {
   "cell_type": "markdown",
   "metadata": {},
   "source": [
    "# 2.1 Modeling"
   ]
  },
  {
   "cell_type": "markdown",
   "metadata": {},
   "source": [
    "#### 75/25 TRAIN TEST SPLIT ALL FEATURES"
   ]
  },
  {
   "cell_type": "code",
   "execution_count": 30,
   "metadata": {},
   "outputs": [],
   "source": [
    "x_train, x_test, y_train, y_test = train_test_split(features, target, test_size=0.25, random_state=10)"
   ]
  },
  {
   "cell_type": "markdown",
   "metadata": {},
   "source": [
    "#### 75/25 TRAIN TEST SPLIT ENGINEERED FEATURES"
   ]
  },
  {
   "cell_type": "code",
   "execution_count": 31,
   "metadata": {},
   "outputs": [],
   "source": [
    "x_train1, x_test1, y_train1, y_test1 = train_test_split(features2, target2, test_size=0.25, random_state=10)"
   ]
  },
  {
   "cell_type": "markdown",
   "metadata": {},
   "source": [
    "# 2.2 Baseline Random Forest Model All Features"
   ]
  },
  {
   "cell_type": "code",
   "execution_count": 32,
   "metadata": {},
   "outputs": [
    {
     "data": {
      "text/plain": [
       "RandomForestClassifier(bootstrap=True, class_weight=None, criterion='gini',\n",
       "                       max_depth=None, max_features='auto', max_leaf_nodes=None,\n",
       "                       min_impurity_decrease=0.0, min_impurity_split=None,\n",
       "                       min_samples_leaf=1, min_samples_split=2,\n",
       "                       min_weight_fraction_leaf=0.0, n_estimators=10,\n",
       "                       n_jobs=None, oob_score=False, random_state=10, verbose=0,\n",
       "                       warm_start=False)"
      ]
     },
     "execution_count": 32,
     "metadata": {},
     "output_type": "execute_result"
    }
   ],
   "source": [
    "# Set up and fit the intital Random Forest Classifier\n",
    "rf_clf = RandomForestClassifier(random_state=10)\n",
    "rf_clf.fit(x_train, y_train)"
   ]
  },
  {
   "cell_type": "code",
   "execution_count": 33,
   "metadata": {},
   "outputs": [],
   "source": [
    "# get predicted values\n",
    "rf_pred = rf_clf.predict(x_test)"
   ]
  },
  {
   "cell_type": "markdown",
   "metadata": {},
   "source": [
    "#### CLASSIFICATION REPORT FOR BASELINE RF MODEL ALL FEATURES"
   ]
  },
  {
   "cell_type": "code",
   "execution_count": 34,
   "metadata": {},
   "outputs": [
    {
     "name": "stdout",
     "output_type": "stream",
     "text": [
      "------------------------------------------------------------\n",
      "Random Forest Baseline Model All Features\n",
      "------------------------------------------------------------\n",
      "              precision    recall  f1-score   support\n",
      "\n",
      "           0       0.60      0.73      0.66     17526\n",
      "           1       0.65      0.51      0.57     17556\n",
      "\n",
      "    accuracy                           0.62     35082\n",
      "   macro avg       0.63      0.62      0.62     35082\n",
      "weighted avg       0.63      0.62      0.62     35082\n",
      "\n",
      "------------------------------------------------------------\n"
     ]
    }
   ],
   "source": [
    "print(60*'-')\n",
    "print('Random Forest Baseline Model All Features')\n",
    "print(60*'-')\n",
    "report_rf = classification_report(y_test, rf_pred)\n",
    "print(report_rf)\n",
    "print(60*'-')"
   ]
  },
  {
   "cell_type": "markdown",
   "metadata": {},
   "source": [
    "#### CONFUSION MATRIX FOR BASELINE RF MODEL ALL FEATURES"
   ]
  },
  {
   "cell_type": "code",
   "execution_count": 35,
   "metadata": {},
   "outputs": [],
   "source": [
    "def conf_matrix(y_actual, y_predicted, cmap='Blues'):\n",
    "    class_names = ['Missed', 'Made']\n",
    "    mat = confusion_matrix(y_actual, y_predicted)\n",
    "    dataframe = pd.DataFrame(mat, index=class_names, columns=class_names)\n",
    "    plt.figure(figsize=(10,5))\n",
    "    sns.heatmap(dataframe, annot=True, cbar=None, cmap=cmap, fmt='.00f', annot_kws={\"size\":13})\n",
    "    plt.title(\"Confusion Matrix\", fontsize=18), plt.tight_layout()\n",
    "    plt.ylabel(\"True Class\",fontsize=15), plt.xlabel('Predicted Class', fontsize=15)\n",
    "    plt.show()"
   ]
  },
  {
   "cell_type": "code",
   "execution_count": 36,
   "metadata": {},
   "outputs": [
    {
     "data": {
      "image/png": "[encoded data removed]",
      "text/plain": [
       "<Figure size 720x360 with 1 Axes>"
      ]
     },
     "metadata": {
      "needs_background": "light"
     },
     "output_type": "display_data"
    }
   ],
   "source": [
    "conf_matrix(y_test, rf_pred)"
   ]
  },
  {
   "cell_type": "markdown",
   "metadata": {},
   "source": [
    "#### TRAIN AND TEST SCORES FOR BASELINE RF MODEL ALL FEATURES"
   ]
  },
  {
   "cell_type": "code",
   "execution_count": 37,
   "metadata": {},
   "outputs": [
    {
     "name": "stdout",
     "output_type": "stream",
     "text": [
      "BASELINE RF MODEL ALL FEATURES FINAL TRAIN SCORES: 0.9840278965471372\n",
      "BASELINE RF MODEL ALL FEATURES FINAL TEST SCORES: 0.6197765235733425\n"
     ]
    }
   ],
   "source": [
    "# Train and Test Scores For Baseline rf Model all features\n",
    "print(\"BASELINE RF MODEL ALL FEATURES FINAL TRAIN SCORES: {}\".format(rf_clf.score(x_train, y_train)))\n",
    "print(\"BASELINE RF MODEL ALL FEATURES FINAL TEST SCORES: {}\".format(rf_clf.score(x_test, y_test)))"
   ]
  },
  {
   "cell_type": "markdown",
   "metadata": {},
   "source": [
    "#### CALCULATE 10-FOLD CV SCORES BASELINE RF MODEL ALL FEATURES"
   ]
  },
  {
   "cell_type": "code",
   "execution_count": 38,
   "metadata": {},
   "outputs": [],
   "source": [
    "# 10 fold Cross-validation Accuracy\n",
    "#rf_kf = KFold(n_splits=10, shuffle=True, random_state=10)\n",
    "#rf_cv_results_a = cross_val_score(rf_clf, features, target, cv=rf_kf, scoring=\"accuracy\",n_jobs=-1) \n",
    "#rf_cv_results_p = cross_val_score(rf_clf, features, target, cv=rf_kf, scoring=\"precision_weighted\",n_jobs=-1)\n",
    "#rf_cv_results_r = cross_val_score(rf_clf, features, target, cv=rf_kf, scoring=\"recall_weighted\",n_jobs=-1)\n",
    "#rf_cv_results_f = cross_val_score(rf_clf, features, target, cv=rf_kf, scoring=\"f1_weighted\",n_jobs=-1)"
   ]
  },
  {
   "cell_type": "code",
   "execution_count": 39,
   "metadata": {},
   "outputs": [],
   "source": [
    "rf_cv_a = [0.61847075, 0.62124991, 0.62894606, 0.62374403, 0.62003848,0.62410033, 0.61968218, 0.62338773, 0.61438141, 0.62179304]"
   ]
  },
  {
   "cell_type": "code",
   "execution_count": 40,
   "metadata": {},
   "outputs": [],
   "source": [
    "rf_cv_p = [0.62480748, 0.62824405, 0.63357711, 0.62996477, 0.62711839,0.62953059, 0.62449295, 0.62853784, 0.62061683, 0.62712598]"
   ]
  },
  {
   "cell_type": "code",
   "execution_count": 41,
   "metadata": {},
   "outputs": [],
   "source": [
    "rf_cv_r = [0.61847075, 0.62124991, 0.62894606, 0.62374403, 0.62003848,0.62410033, 0.61968218, 0.62338773, 0.61438141, 0.62179304]"
   ]
  },
  {
   "cell_type": "code",
   "execution_count": 42,
   "metadata": {},
   "outputs": [],
   "source": [
    "rf_cv_f = [0.61421792, 0.61651218, 0.62468998, 0.61928075, 0.6152871 ,0.61976412, 0.61588332, 0.61970266, 0.60973242, 0.61711576]"
   ]
  },
  {
   "cell_type": "markdown",
   "metadata": {},
   "source": [
    "# 2.3 Random Forest Model with Engineered Features"
   ]
  },
  {
   "cell_type": "code",
   "execution_count": 43,
   "metadata": {},
   "outputs": [
    {
     "data": {
      "text/plain": [
       "RandomForestClassifier(bootstrap=True, class_weight=None, criterion='gini',\n",
       "                       max_depth=None, max_features='auto', max_leaf_nodes=None,\n",
       "                       min_impurity_decrease=0.0, min_impurity_split=None,\n",
       "                       min_samples_leaf=1, min_samples_split=2,\n",
       "                       min_weight_fraction_leaf=0.0, n_estimators=10,\n",
       "                       n_jobs=None, oob_score=False, random_state=10, verbose=0,\n",
       "                       warm_start=False)"
      ]
     },
     "execution_count": 43,
     "metadata": {},
     "output_type": "execute_result"
    }
   ],
   "source": [
    "# Set up and fit the intital Random Forest Classifier with 4 engineered features\n",
    "rf_clf2 = RandomForestClassifier(random_state=10)\n",
    "rf_clf2.fit(x_train1, y_train1)"
   ]
  },
  {
   "cell_type": "code",
   "execution_count": 44,
   "metadata": {},
   "outputs": [],
   "source": [
    "# get predicted values\n",
    "rf_pred2 = rf_clf2.predict(x_test1)"
   ]
  },
  {
   "cell_type": "markdown",
   "metadata": {},
   "source": [
    "#### CLASSIFICATION REPORT AND CONFUSION MATRIX RF MODEL ENGINEERED FEATURES"
   ]
  },
  {
   "cell_type": "code",
   "execution_count": 45,
   "metadata": {},
   "outputs": [
    {
     "name": "stdout",
     "output_type": "stream",
     "text": [
      "------------------------------------------------------------\n",
      "Random Forest Baseline Model All Features\n",
      "------------------------------------------------------------\n",
      "              precision    recall  f1-score   support\n",
      "\n",
      "           0       0.57      0.68      0.62     17526\n",
      "           1       0.60      0.49      0.54     17556\n",
      "\n",
      "    accuracy                           0.58     35082\n",
      "   macro avg       0.59      0.58      0.58     35082\n",
      "weighted avg       0.59      0.58      0.58     35082\n",
      "\n",
      "------------------------------------------------------------\n"
     ]
    }
   ],
   "source": [
    "print(60*'-')\n",
    "print('Random Forest Baseline Model All Features')\n",
    "print(60*'-')\n",
    "report_rf2 = classification_report(y_test1, rf_pred2)\n",
    "print(report_rf2)\n",
    "print(60*'-')"
   ]
  },
  {
   "cell_type": "code",
   "execution_count": 46,
   "metadata": {},
   "outputs": [
    {
     "data": {
      "image/png": "[encoded data removed]",
      "text/plain": [
       "<Figure size 720x360 with 1 Axes>"
      ]
     },
     "metadata": {
      "needs_background": "light"
     },
     "output_type": "display_data"
    }
   ],
   "source": [
    "conf_matrix(y_test1, rf_pred2)"
   ]
  },
  {
   "cell_type": "markdown",
   "metadata": {},
   "source": [
    "#### TRAIN AND TEST SCORES FOR BASELINE RF MODEL ENGINEERED FEATURES"
   ]
  },
  {
   "cell_type": "code",
   "execution_count": 47,
   "metadata": {},
   "outputs": [
    {
     "name": "stdout",
     "output_type": "stream",
     "text": [
      "RF MODEL ENGINEERED FEATURES FINAL TRAIN SCORES: 0.9817095186515402\n",
      "RF MODEL ENGINEERED FEATURES FINAL TEST SCORES: 0.5845732854455277\n"
     ]
    }
   ],
   "source": [
    "# Train and Test Scores For rf Model Engineered features\n",
    "print(\"RF MODEL ENGINEERED FEATURES FINAL TRAIN SCORES: {}\".format(rf_clf2.score(x_train1, y_train1)))\n",
    "print(\"RF MODEL ENGINEERED FEATURES FINAL TEST SCORES: {}\".format(rf_clf2.score(x_test1, y_test1)))"
   ]
  },
  {
   "cell_type": "markdown",
   "metadata": {},
   "source": [
    "#### 10 FOLD-CV RF MODEL ENGINEERED FEATURES"
   ]
  },
  {
   "cell_type": "code",
   "execution_count": 48,
   "metadata": {},
   "outputs": [],
   "source": [
    "# 10 fold Cross-validation Accuracy\n",
    "#rf2_kf = KFold(n_splits=10, shuffle=True, random_state=10)\n",
    "#rf2_cv_results_a = cross_val_score(rf_clf2, features2, target2, cv=rf2_kf, scoring=\"accuracy\",n_jobs=-1) \n",
    "#rf2_cv_results_p = cross_val_score(rf_clf2, features2, target2, cv=rf2_kf, scoring=\"precision_weighted\",n_jobs=-1)\n",
    "#rf2_cv_results_r = cross_val_score(rf_clf2, features2, target2, cv=rf2_kf, scoring=\"recall_weighted\",n_jobs=-1)\n",
    "#rf2_cv_results_f = cross_val_score(rf_clf2, features2, target2, cv=rf2_kf, scoring=\"f1_weighted\",n_jobs=-1)"
   ]
  },
  {
   "cell_type": "code",
   "execution_count": 49,
   "metadata": {},
   "outputs": [],
   "source": [
    "rf2_cv_a = [0.59082163, 0.58868382, 0.59167676, 0.58946768, 0.59117794,0.58754365, 0.58048885, 0.58469322, 0.58687286, 0.58366591]"
   ]
  },
  {
   "cell_type": "code",
   "execution_count": 50,
   "metadata": {},
   "outputs": [],
   "source": [
    "rf2_cv_p = [0.59481015, 0.59252232, 0.59378264, 0.59247414, 0.59453574,0.59062393, 0.5829755 , 0.58708232, 0.58973249, 0.58562587]"
   ]
  },
  {
   "cell_type": "code",
   "execution_count": 51,
   "metadata": {},
   "outputs": [],
   "source": [
    "rf2_cv_r = [0.59082163, 0.58868382, 0.59167676, 0.58946768, 0.59117794,0.58754365, 0.58048885, 0.58469322, 0.58687286, 0.58366591]"
   ]
  },
  {
   "cell_type": "code",
   "execution_count": 52,
   "metadata": {},
   "outputs": [],
   "source": [
    "rf2_cv_f = [0.58724989, 0.58497361, 0.5880823 , 0.58621368, 0.58816355, 0.5835306 , 0.57720073, 0.58198079, 0.58397276, 0.5804764 ]"
   ]
  },
  {
   "cell_type": "markdown",
   "metadata": {},
   "source": [
    "#### LOOK AT FEATURE IMPORTANCES FOR OUR FIRST TWO MODELS"
   ]
  },
  {
   "cell_type": "code",
   "execution_count": 53,
   "metadata": {},
   "outputs": [],
   "source": [
    "# Function to visually inspect feature importances\n",
    "def plot_feat_imp(model_classifier, data=features, color='r'):\n",
    "    importances1 = model_classifier.feature_importances_\n",
    "    features1 = data.columns\n",
    "    features_importance1 = pd.DataFrame(importances1, index=features1, columns=['Importance'])\n",
    "    sorted_feat_imp1 = features_importance1.sort_values('Importance', axis=0, ascending=False)\n",
    "    plt.figure(figsize=(12,5))\n",
    "    plt.title('Feature Importance in Model', fontsize=18)\n",
    "    tmp = sorted_feat_imp1['Importance'].values.tolist()\n",
    "    plt.bar(range(data.shape[1]), tmp, color=color )\n",
    "    plt.xticks(range(data.shape[1]), sorted_feat_imp1.index, rotation=45, ha='center', fontsize=12)\n",
    "    plt.xlim(-1, data.shape[1])\n",
    "    plt.ylabel('Importance', fontsize=15)\n",
    "    plt.tight_layout()\n",
    "    plt.show()"
   ]
  },
  {
   "cell_type": "markdown",
   "metadata": {},
   "source": [
    "#### FEATURE IMPORTANCE BASELINE RF MODEL ALL FEATURES"
   ]
  },
  {
   "cell_type": "code",
   "execution_count": 54,
   "metadata": {},
   "outputs": [
    {
     "data": {
      "image/png": "[encoded data removed]",
      "text/plain": [
       "<Figure size 864x360 with 1 Axes>"
      ]
     },
     "metadata": {
      "needs_background": "light"
     },
     "output_type": "display_data"
    }
   ],
   "source": [
    "plot_feat_imp(rf_clf, data=features, color='darkblue')"
   ]
  },
  {
   "cell_type": "markdown",
   "metadata": {},
   "source": [
    "#### FEATURE IMPORTANCE RF MODEL ENGINEERED FEATURES"
   ]
  },
  {
   "cell_type": "code",
   "execution_count": 55,
   "metadata": {
    "scrolled": false
   },
   "outputs": [
    {
     "data": {
      "image/png": "[encoded data removed]",
      "text/plain": [
       "<Figure size 864x360 with 1 Axes>"
      ]
     },
     "metadata": {
      "needs_background": "light"
     },
     "output_type": "display_data"
    }
   ],
   "source": [
    "plot_feat_imp(rf_clf2, data=features2, color='darkblue')"
   ]
  },
  {
   "cell_type": "markdown",
   "metadata": {},
   "source": [
    "# 2.4 AdaBoost Classifier All Features"
   ]
  },
  {
   "cell_type": "markdown",
   "metadata": {},
   "source": [
    "#### SET UP ADABOOST CLASSIFIER FOR ALL FEATURES"
   ]
  },
  {
   "cell_type": "code",
   "execution_count": 56,
   "metadata": {},
   "outputs": [
    {
     "data": {
      "text/plain": [
       "AdaBoostClassifier(algorithm='SAMME.R', base_estimator=None, learning_rate=1.0,\n",
       "                   n_estimators=100, random_state=10)"
      ]
     },
     "execution_count": 56,
     "metadata": {},
     "output_type": "execute_result"
    }
   ],
   "source": [
    "ab_clf = AdaBoostClassifier(n_estimators=100, learning_rate=1.0, algorithm='SAMME.R', random_state=10)\n",
    "ab_clf.fit(x_train, y_train)"
   ]
  },
  {
   "cell_type": "code",
   "execution_count": 57,
   "metadata": {},
   "outputs": [],
   "source": [
    "ab_pred = ab_clf.predict(x_test)"
   ]
  },
  {
   "cell_type": "markdown",
   "metadata": {},
   "source": [
    "#### CLASSIFICATION REPORT AND CONFUSION MATRIX FOR ADABOOST MODEL ALL FEATURES"
   ]
  },
  {
   "cell_type": "code",
   "execution_count": 58,
   "metadata": {},
   "outputs": [
    {
     "name": "stdout",
     "output_type": "stream",
     "text": [
      "------------------------------------------------------------\n",
      "AB Baseline Model All Features\n",
      "------------------------------------------------------------\n",
      "              precision    recall  f1-score   support\n",
      "\n",
      "           0       0.61      0.71      0.65     17526\n",
      "           1       0.65      0.54      0.59     17556\n",
      "\n",
      "    accuracy                           0.63     35082\n",
      "   macro avg       0.63      0.63      0.62     35082\n",
      "weighted avg       0.63      0.63      0.62     35082\n",
      "\n",
      "------------------------------------------------------------\n"
     ]
    }
   ],
   "source": [
    "print(60*'-')\n",
    "print('AB Baseline Model All Features')\n",
    "print(60*'-')\n",
    "report_ab = classification_report(y_test, ab_pred)\n",
    "print(report_ab)\n",
    "print(60*'-')"
   ]
  },
  {
   "cell_type": "code",
   "execution_count": 59,
   "metadata": {},
   "outputs": [
    {
     "data": {
      "image/png": "[encoded data removed]",
      "text/plain": [
       "<Figure size 720x360 with 1 Axes>"
      ]
     },
     "metadata": {
      "needs_background": "light"
     },
     "output_type": "display_data"
    }
   ],
   "source": [
    "conf_matrix(y_test, ab_pred, cmap=\"Purples\")"
   ]
  },
  {
   "cell_type": "markdown",
   "metadata": {},
   "source": [
    "#### TRAIN AND TEST SCORES FOR ADABOOST MODEL ALL FEATURES"
   ]
  },
  {
   "cell_type": "code",
   "execution_count": 60,
   "metadata": {},
   "outputs": [
    {
     "name": "stdout",
     "output_type": "stream",
     "text": [
      "ADABOOST MODEL ALL FEATURES FINAL TRAIN SCORES: 0.6244227809132888\n",
      "ADABOOST MODEL ALL FEATURES FINAL TEST SCORES: 0.6255914714098398\n"
     ]
    }
   ],
   "source": [
    "# Train and Test Scores For Baseline AB Model all features\n",
    "print(\"ADABOOST MODEL ALL FEATURES FINAL TRAIN SCORES: {}\".format(ab_clf.score(x_train, y_train)))\n",
    "print(\"ADABOOST MODEL ALL FEATURES FINAL TEST SCORES: {}\".format(ab_clf.score(x_test, y_test)))"
   ]
  },
  {
   "cell_type": "markdown",
   "metadata": {},
   "source": [
    "#### FEATURE IMPORTANCES ADABOOST MODEL ALL FEATURES"
   ]
  },
  {
   "cell_type": "code",
   "execution_count": 61,
   "metadata": {},
   "outputs": [
    {
     "data": {
      "image/png": "[encoded data removed]",
      "text/plain": [
       "<Figure size 864x360 with 1 Axes>"
      ]
     },
     "metadata": {
      "needs_background": "light"
     },
     "output_type": "display_data"
    }
   ],
   "source": [
    "plot_feat_imp(ab_clf, data=features, color='purple')"
   ]
  },
  {
   "cell_type": "markdown",
   "metadata": {},
   "source": [
    "#### 10 FOLD CROSS VALIDATION MODELING METRICS FOR ADABOOST MODEL ALL FEATURES"
   ]
  },
  {
   "cell_type": "code",
   "execution_count": 62,
   "metadata": {},
   "outputs": [],
   "source": [
    "# 10 fold Cross-validation \n",
    "#ab_kf = KFold(n_splits=10, shuffle=True, random_state=10)\n",
    "#ab_cv_results_a = cross_val_score(ab_clf, features, target, cv=ab_kf, scoring=\"accuracy\",n_jobs=-1) \n",
    "#ab_cv_results_p = cross_val_score(ab_clf, features, target, cv=ab_kf, scoring=\"precision_weighted\",n_jobs=-1)\n",
    "#ab_cv_results_r = cross_val_score(ab_clf, features, target, cv=ab_kf, scoring=\"recall_weighted\",n_jobs=-1)\n",
    "#ab_cv_results_f = cross_val_score(ab_clf, features, target, cv=ab_kf, scoring=\"f1_weighted\",n_jobs=-1)"
   ]
  },
  {
   "cell_type": "code",
   "execution_count": 63,
   "metadata": {},
   "outputs": [],
   "source": [
    "ab_cv_a = [0.62353025, 0.62239008, 0.62410033, 0.62716454, 0.6194684 ,0.62310269, 0.62160621, 0.62616689, 0.62571266, 0.62357469]"
   ]
  },
  {
   "cell_type": "code",
   "execution_count": 64,
   "metadata": {},
   "outputs": [],
   "source": [
    "ab_cv_p = [0.62744889, 0.6262296 , 0.62673568, 0.63060666, 0.62333461,0.62726928, 0.62446966, 0.62983484, 0.63027223, 0.62599202]"
   ]
  },
  {
   "cell_type": "code",
   "execution_count": 65,
   "metadata": {},
   "outputs": [],
   "source": [
    "ab_cv_r = [0.62353025, 0.62239008, 0.62410033, 0.62716454, 0.6194684 ,0.62310269, 0.62160621, 0.62616689, 0.62571266, 0.62357469]"
   ]
  },
  {
   "cell_type": "code",
   "execution_count": 66,
   "metadata": {},
   "outputs": [],
   "source": [
    "ab_cv_f = [0.62109771, 0.61986451, 0.62128665, 0.62475958, 0.61692447,0.61967356, 0.61934943, 0.62361096, 0.62270634, 0.62130081]"
   ]
  },
  {
   "cell_type": "markdown",
   "metadata": {},
   "source": [
    "# 2.5 AdaBoost Model With Engineered Features"
   ]
  },
  {
   "cell_type": "markdown",
   "metadata": {},
   "source": [
    "#### SET UP ADABOOST CLASSIFIER FOR ENGINEERED FEATURES"
   ]
  },
  {
   "cell_type": "code",
   "execution_count": 67,
   "metadata": {},
   "outputs": [
    {
     "data": {
      "text/plain": [
       "AdaBoostClassifier(algorithm='SAMME.R', base_estimator=None, learning_rate=1.0,\n",
       "                   n_estimators=100, random_state=10)"
      ]
     },
     "execution_count": 67,
     "metadata": {},
     "output_type": "execute_result"
    }
   ],
   "source": [
    "ab2_clf = AdaBoostClassifier(n_estimators=100, learning_rate=1.0, algorithm='SAMME.R', random_state=10)\n",
    "ab2_clf.fit(x_train1, y_train1)"
   ]
  },
  {
   "cell_type": "code",
   "execution_count": 68,
   "metadata": {},
   "outputs": [],
   "source": [
    "ab_pred2 = ab2_clf.predict(x_test1)"
   ]
  },
  {
   "cell_type": "markdown",
   "metadata": {},
   "source": [
    "#### CLASSIFICATION REPORT AND CONFUSION MATRIX FOR ADABOOST MODEL ENGINEERED FEATURES"
   ]
  },
  {
   "cell_type": "code",
   "execution_count": 69,
   "metadata": {},
   "outputs": [
    {
     "name": "stdout",
     "output_type": "stream",
     "text": [
      "------------------------------------------------------------\n",
      "AB Model Engineered Features\n",
      "------------------------------------------------------------\n",
      "              precision    recall  f1-score   support\n",
      "\n",
      "           0       0.59      0.67      0.63     17526\n",
      "           1       0.62      0.54      0.57     17556\n",
      "\n",
      "    accuracy                           0.60     35082\n",
      "   macro avg       0.60      0.60      0.60     35082\n",
      "weighted avg       0.60      0.60      0.60     35082\n",
      "\n",
      "------------------------------------------------------------\n"
     ]
    }
   ],
   "source": [
    "print(60*'-')\n",
    "print('AB Model Engineered Features')\n",
    "print(60*'-')\n",
    "report_ab2 = classification_report(y_test1, ab_pred2)\n",
    "print(report_ab2)\n",
    "print(60*'-')"
   ]
  },
  {
   "cell_type": "code",
   "execution_count": 70,
   "metadata": {},
   "outputs": [
    {
     "data": {
      "image/png": "[encoded data removed]",
      "text/plain": [
       "<Figure size 720x360 with 1 Axes>"
      ]
     },
     "metadata": {
      "needs_background": "light"
     },
     "output_type": "display_data"
    }
   ],
   "source": [
    "conf_matrix(y_test1, ab_pred2, cmap='Purples')"
   ]
  },
  {
   "cell_type": "markdown",
   "metadata": {},
   "source": [
    "#### TRAIN AND TEST SCORES FOR ADABOOST MODEL ENGINEERED FEATURES"
   ]
  },
  {
   "cell_type": "code",
   "execution_count": 71,
   "metadata": {},
   "outputs": [
    {
     "name": "stdout",
     "output_type": "stream",
     "text": [
      "ADABOOST MODEL ENGINEERED FEATURES FINAL TRAIN SCORES: 0.5974858902001026\n",
      "ADABOOST MODEL ENGINEERED FEATURES FINAL TEST SCORES: 0.6017615871387036\n"
     ]
    }
   ],
   "source": [
    "# Train and Test Scores For AB Model Engineered features\n",
    "print(\"ADABOOST MODEL ENGINEERED FEATURES FINAL TRAIN SCORES: {}\".format(ab2_clf.score(x_train1, y_train1)))\n",
    "print(\"ADABOOST MODEL ENGINEERED FEATURES FINAL TEST SCORES: {}\".format(ab2_clf.score(x_test1, y_test1)))"
   ]
  },
  {
   "cell_type": "markdown",
   "metadata": {},
   "source": [
    "#### FEATURE IMPORTANCES ADABOOST MODEL ENGINEERED FEATURES"
   ]
  },
  {
   "cell_type": "code",
   "execution_count": 72,
   "metadata": {},
   "outputs": [
    {
     "data": {
      "image/png": "[encoded data removed]",
      "text/plain": [
       "<Figure size 864x360 with 1 Axes>"
      ]
     },
     "metadata": {
      "needs_background": "light"
     },
     "output_type": "display_data"
    }
   ],
   "source": [
    "plot_feat_imp(ab2_clf, data=features2, color='purple')"
   ]
  },
  {
   "cell_type": "markdown",
   "metadata": {},
   "source": [
    "#### 10 FOLD CROSS VALIDATION MODELING METRICS FOR ADABOOST MODEL ENGINEERED FEATURES"
   ]
  },
  {
   "cell_type": "code",
   "execution_count": 73,
   "metadata": {},
   "outputs": [],
   "source": [
    "# 10 fold Cross-validation \n",
    "#ab2_kf = KFold(n_splits=10, shuffle=True, random_state=10)\n",
    "#ab2_cv_results_a = cross_val_score(ab2_clf, features2, target2, cv=ab2_kf, scoring=\"accuracy\",n_jobs=-1) \n",
    "#ab2_cv_results_p = cross_val_score(ab2_clf, features2, target2, cv=ab2_kf, scoring=\"precision_weighted\",n_jobs=-1)\n",
    "#ab2_cv_results_r = cross_val_score(ab2_clf, features2, target2, cv=ab2_kf, scoring=\"recall_weighted\",n_jobs=-1)\n",
    "#ab2_cv_results_f = cross_val_score(ab2_clf, features2, target2, cv=ab2_kf, scoring=\"f1_weighted\",n_jobs=-1)"
   ]
  },
  {
   "cell_type": "code",
   "execution_count": 74,
   "metadata": {},
   "outputs": [],
   "source": [
    "ab2_cv_a = [0.60051308, 0.59801896, 0.59766265, 0.59809022, 0.59438466,0.59637996, 0.59459845, 0.60115442, 0.59570981, 0.59670753]"
   ]
  },
  {
   "cell_type": "code",
   "execution_count": 75,
   "metadata": {},
   "outputs": [],
   "source": [
    "ab2_cv_p = [0.60294383, 0.6002882 , 0.59837489, 0.60050124, 0.59636954,0.59809794, 0.59611475, 0.60254523, 0.59797494, 0.59759144]"
   ]
  },
  {
   "cell_type": "code",
   "execution_count": 76,
   "metadata": {},
   "outputs": [],
   "source": [
    "ab2_cv_r = [0.60051308, 0.59801896, 0.59766265, 0.59809022, 0.59438466,0.59637996, 0.59459845, 0.60115442, 0.59570981, 0.59670753]"
   ]
  },
  {
   "cell_type": "code",
   "execution_count": 77,
   "metadata": {},
   "outputs": [],
   "source": [
    "ab2_cv_f = [0.59866089, 0.59612964, 0.59616981, 0.59575118, 0.59275589,0.5942895 , 0.59291842, 0.59988826, 0.59368087, 0.59534624]"
   ]
  },
  {
   "cell_type": "markdown",
   "metadata": {},
   "source": [
    "# 2.6 Gradient Boosting Classifier\n",
    "- This is a more powerful model\n",
    "- We will set up a basline model with all features\n",
    "- We then perform a Grid Search to identify the best parameters and optimize our model.\n",
    "- We will then use this model with optimized parameters for the data with all features and the engineered features"
   ]
  },
  {
   "cell_type": "markdown",
   "metadata": {},
   "source": [
    "#### BASELINE GB MODEL USING ALL FEATURES"
   ]
  },
  {
   "cell_type": "code",
   "execution_count": 78,
   "metadata": {},
   "outputs": [
    {
     "data": {
      "text/plain": [
       "GradientBoostingClassifier(criterion='friedman_mse', init=None,\n",
       "                           learning_rate=0.1, loss='deviance', max_depth=3,\n",
       "                           max_features=None, max_leaf_nodes=None,\n",
       "                           min_impurity_decrease=0.0, min_impurity_split=None,\n",
       "                           min_samples_leaf=1, min_samples_split=2,\n",
       "                           min_weight_fraction_leaf=0.0, n_estimators=100,\n",
       "                           n_iter_no_change=None, presort='auto',\n",
       "                           random_state=10, subsample=1.0, tol=0.0001,\n",
       "                           validation_fraction=0.1, verbose=0,\n",
       "                           warm_start=False)"
      ]
     },
     "execution_count": 78,
     "metadata": {},
     "output_type": "execute_result"
    }
   ],
   "source": [
    "gb_clf = GradientBoostingClassifier(random_state=10)\n",
    "gb_clf.fit(x_train, y_train)"
   ]
  },
  {
   "cell_type": "code",
   "execution_count": 79,
   "metadata": {},
   "outputs": [],
   "source": [
    "gb_pred = gb_clf.predict(x_test)"
   ]
  },
  {
   "cell_type": "markdown",
   "metadata": {},
   "source": [
    "#### CLASSIFICATION REPORT AND CONFUSION MATRIX FOR GB MODEL ALL FEATURES"
   ]
  },
  {
   "cell_type": "code",
   "execution_count": 80,
   "metadata": {},
   "outputs": [
    {
     "name": "stdout",
     "output_type": "stream",
     "text": [
      "------------------------------------------------------------\n",
      "GB Baseline Model All Features\n",
      "------------------------------------------------------------\n",
      "              precision    recall  f1-score   support\n",
      "\n",
      "           0       0.61      0.81      0.70     17526\n",
      "           1       0.72      0.48      0.58     17556\n",
      "\n",
      "    accuracy                           0.65     35082\n",
      "   macro avg       0.67      0.65      0.64     35082\n",
      "weighted avg       0.67      0.65      0.64     35082\n",
      "\n",
      "------------------------------------------------------------\n"
     ]
    }
   ],
   "source": [
    "print(60*'-')\n",
    "print('GB Baseline Model All Features')\n",
    "print(60*'-')\n",
    "report_gb = classification_report(y_test, gb_pred)\n",
    "print(report_gb)\n",
    "print(60*'-')"
   ]
  },
  {
   "cell_type": "code",
   "execution_count": 81,
   "metadata": {},
   "outputs": [
    {
     "data": {
      "image/png": "[encoded data removed]",
      "text/plain": [
       "<Figure size 720x360 with 1 Axes>"
      ]
     },
     "metadata": {
      "needs_background": "light"
     },
     "output_type": "display_data"
    }
   ],
   "source": [
    "conf_matrix(y_test, gb_pred, cmap='Greens')"
   ]
  },
  {
   "cell_type": "markdown",
   "metadata": {},
   "source": [
    "#### TRAIN AND TEST SCORES FOR INITIAL GB MODEL"
   ]
  },
  {
   "cell_type": "code",
   "execution_count": 82,
   "metadata": {},
   "outputs": [
    {
     "name": "stdout",
     "output_type": "stream",
     "text": [
      "BASELINE GB MODEL ALL FEATURES FINAL TRAIN SCORES: 0.6477300800030404\n",
      "BASELINE GB MODEL ALL FEATURES FINAL TEST SCORES: 0.6467704235790434\n"
     ]
    }
   ],
   "source": [
    "# Train and Test Scores For Baseline GB Model all features\n",
    "print(\"BASELINE GB MODEL ALL FEATURES FINAL TRAIN SCORES: {}\".format(gb_clf.score(x_train, y_train)))\n",
    "print(\"BASELINE GB MODEL ALL FEATURES FINAL TEST SCORES: {}\".format(gb_clf.score(x_test, y_test)))"
   ]
  },
  {
   "cell_type": "markdown",
   "metadata": {},
   "source": [
    "#### LOOK AT FEATURE IMPORTANCES FOR FIRST GB MODEL"
   ]
  },
  {
   "cell_type": "code",
   "execution_count": 83,
   "metadata": {
    "scrolled": false
   },
   "outputs": [
    {
     "data": {
      "image/png": "[encoded data removed]",
      "text/plain": [
       "<Figure size 864x360 with 1 Axes>"
      ]
     },
     "metadata": {
      "needs_background": "light"
     },
     "output_type": "display_data"
    }
   ],
   "source": [
    "plot_feat_imp(gb_clf, data=features, color='teal')"
   ]
  },
  {
   "cell_type": "markdown",
   "metadata": {},
   "source": [
    "#### 10 FOLD CROSS VALIDATION BASELINE GB MODEL ALL FEATURES"
   ]
  },
  {
   "cell_type": "code",
   "execution_count": 84,
   "metadata": {},
   "outputs": [],
   "source": [
    "# 10 fold Cross-validation \n",
    "#gb_kf = KFold(n_splits=10, shuffle=True, random_state=10)\n",
    "#gb_cv_results_a = cross_val_score(gb_clf, features, target, cv=gb_kf, scoring=\"accuracy\",n_jobs=-1) \n",
    "#gb_cv_results_p = cross_val_score(gb_clf, features, target, cv=gb_kf, scoring=\"precision_weighted\",n_jobs=-1)\n",
    "#gb_cv_results_r = cross_val_score(gb_clf, features, target, cv=gb_kf, scoring=\"recall_weighted\",n_jobs=-1)\n",
    "#gb_cv_results_f = cross_val_score(gb_clf, features, target, cv=gb_kf, scoring=\"f1_weighted\",n_jobs=-1)"
   ]
  },
  {
   "cell_type": "code",
   "execution_count": 85,
   "metadata": {},
   "outputs": [],
   "source": [
    "gb_cv_a = [0.64248557, 0.64512221, 0.64590608, 0.64811516, 0.64184422,0.64341196, 0.64227179, 0.64348322, 0.64566705, 0.64310148]"
   ]
  },
  {
   "cell_type": "code",
   "execution_count": 86,
   "metadata": {},
   "outputs": [],
   "source": [
    "gb_cv_p = [0.65991654, 0.66447948, 0.66084838, 0.66430189, 0.65986053,0.66133322, 0.65758508, 0.65857771, 0.66507688, 0.65945401]"
   ]
  },
  {
   "cell_type": "code",
   "execution_count": 87,
   "metadata": {},
   "outputs": [],
   "source": [
    "gb_cv_r = [0.64248557, 0.64512221, 0.64590608, 0.64811516, 0.64184422,0.64341196, 0.64227179, 0.64348322, 0.64566705, 0.64310148]"
   ]
  },
  {
   "cell_type": "code",
   "execution_count": 88,
   "metadata": {},
   "outputs": [],
   "source": [
    "gb_cv_f = [0.63324049, 0.63495118, 0.636146  , 0.63933657, 0.63217583, 0.63275859, 0.63325258, 0.63495206, 0.63538673, 0.63288476]"
   ]
  },
  {
   "cell_type": "markdown",
   "metadata": {},
   "source": [
    "#### SET UP GRID SEARCH TO FIND OPTIMIZED PARAMETERS"
   ]
  },
  {
   "cell_type": "code",
   "execution_count": 89,
   "metadata": {},
   "outputs": [],
   "source": [
    "# Create a parameter grid: map the parameter names to the values that should be searched\n",
    "#param_grid = {'learning_rate' : [0.1],\n",
    "               #'max_depth' : range(5,10),\n",
    "               #'max_features' : range(4,9),\n",
    "               #'min_samples_leaf' : range(1,4),\n",
    "               #'min_samples_split' : range(2,5),\n",
    "               #'n_estimators' : [30,50,100]}\n",
    "             \n",
    "\n",
    "#Instantiate the grid\n",
    "#grid = GridSearchCV(gb_clf, param_grid, cv=5, scoring='f1_macro', verbose=True, n_jobs=-1)\n",
    "\n",
    "# fit the grid with data\n",
    "#grid.fit(x_train, y_train)"
   ]
  },
  {
   "cell_type": "code",
   "execution_count": 90,
   "metadata": {},
   "outputs": [],
   "source": [
    "# examine the best model\n",
    "\n",
    "# Single best score achieved across all params \n",
    "#print(grid.best_score_)\n",
    "\n",
    "# Dictionary containing the parameters used to generate that score\n",
    "#print(grid.best_params_)\n"
   ]
  },
  {
   "cell_type": "code",
   "execution_count": 91,
   "metadata": {},
   "outputs": [
    {
     "data": {
      "text/plain": [
       "{'learning_rate': 0.1,\n",
       " 'max_depth': 5,\n",
       " 'max_features': 8,\n",
       " 'min_samples_leaf': 1,\n",
       " 'min_samples_split': 2,\n",
       " 'n_estimators': 30}"
      ]
     },
     "execution_count": 91,
     "metadata": {},
     "output_type": "execute_result"
    }
   ],
   "source": [
    "gb_params = {'learning_rate': 0.1, 'max_depth': 5, 'max_features': 8, 'min_samples_leaf': 1, 'min_samples_split': 2, 'n_estimators': 30}\n",
    "gb_params"
   ]
  },
  {
   "cell_type": "markdown",
   "metadata": {},
   "source": [
    "# 2.7 Gradient Boosting Classifier with Optimized Parameters"
   ]
  },
  {
   "cell_type": "markdown",
   "metadata": {},
   "source": [
    "#### FIT GRADIENT BOOSTING CLASSIFIER WITH OPTIMIZED PARAMETERS"
   ]
  },
  {
   "cell_type": "code",
   "execution_count": 92,
   "metadata": {},
   "outputs": [
    {
     "data": {
      "text/plain": [
       "GradientBoostingClassifier(criterion='friedman_mse', init=None,\n",
       "                           learning_rate=0.1, loss='deviance', max_depth=6,\n",
       "                           max_features=8, max_leaf_nodes=None,\n",
       "                           min_impurity_decrease=0.0, min_impurity_split=None,\n",
       "                           min_samples_leaf=1, min_samples_split=2,\n",
       "                           min_weight_fraction_leaf=0.0, n_estimators=30,\n",
       "                           n_iter_no_change=None, presort='auto',\n",
       "                           random_state=10, subsample=1.0, tol=0.0001,\n",
       "                           validation_fraction=0.1, verbose=0,\n",
       "                           warm_start=False)"
      ]
     },
     "execution_count": 92,
     "metadata": {},
     "output_type": "execute_result"
    }
   ],
   "source": [
    "# Use Gradient Boosting Classifier with Optimized parameters\n",
    "gb2_clf = GradientBoostingClassifier(n_estimators=30, max_depth=6, random_state=10, max_features=8, learning_rate=0.10)\n",
    "gb2_clf.fit(x_train, y_train)"
   ]
  },
  {
   "cell_type": "code",
   "execution_count": 93,
   "metadata": {},
   "outputs": [],
   "source": [
    "gb2_pred = gb2_clf.predict(x_test)"
   ]
  },
  {
   "cell_type": "markdown",
   "metadata": {},
   "source": [
    "#### CLASSIFICATION REPORT AND CONFUSION MATRIX GRADIENT BOOSTING CLASSIFIER WITH OPTIMIZED PARAMETERS"
   ]
  },
  {
   "cell_type": "code",
   "execution_count": 94,
   "metadata": {},
   "outputs": [
    {
     "name": "stdout",
     "output_type": "stream",
     "text": [
      "------------------------------------------------------------\n",
      "GB Model Optimized Parameters\n",
      "------------------------------------------------------------\n",
      "              precision    recall  f1-score   support\n",
      "\n",
      "           0       0.61      0.81      0.69     17526\n",
      "           1       0.71      0.47      0.57     17556\n",
      "\n",
      "    accuracy                           0.64     35082\n",
      "   macro avg       0.66      0.64      0.63     35082\n",
      "weighted avg       0.66      0.64      0.63     35082\n",
      "\n",
      "------------------------------------------------------------\n"
     ]
    }
   ],
   "source": [
    "print(60*'-')\n",
    "print('GB Model Optimized Parameters')\n",
    "print(60*'-')\n",
    "report2_gb = classification_report(y_test, gb2_pred)\n",
    "print(report2_gb)\n",
    "print(60*'-')"
   ]
  },
  {
   "cell_type": "code",
   "execution_count": 95,
   "metadata": {},
   "outputs": [
    {
     "data": {
      "image/png": "[encoded data removed]",
      "text/plain": [
       "<Figure size 720x360 with 1 Axes>"
      ]
     },
     "metadata": {
      "needs_background": "light"
     },
     "output_type": "display_data"
    }
   ],
   "source": [
    "conf_matrix(y_test, gb2_pred, cmap='Greens')"
   ]
  },
  {
   "cell_type": "markdown",
   "metadata": {},
   "source": [
    "#### TRAIN AND TEST SCORES FOR OPTIMIZED GB MODEL"
   ]
  },
  {
   "cell_type": "code",
   "execution_count": 96,
   "metadata": {},
   "outputs": [
    {
     "name": "stdout",
     "output_type": "stream",
     "text": [
      "OPTIMIZED GB MODEL FINAL TRAIN SCORES: 0.6454592098512058\n",
      "OPTIMIZED GB MODEL FINAL TEST SCORES: 0.6415255686676928\n"
     ]
    }
   ],
   "source": [
    "# Train and Test Scores For Optimized GB Model\n",
    "print(\"OPTIMIZED GB MODEL FINAL TRAIN SCORES: {}\".format(gb2_clf.score(x_train, y_train)))\n",
    "print(\"OPTIMIZED GB MODEL FINAL TEST SCORES: {}\".format(gb2_clf.score(x_test, y_test)))"
   ]
  },
  {
   "cell_type": "markdown",
   "metadata": {},
   "source": [
    "#### LOOK AT FEATURE IMPORTANCES FOR OPTIMIZED GB MODEL"
   ]
  },
  {
   "cell_type": "code",
   "execution_count": 97,
   "metadata": {},
   "outputs": [
    {
     "data": {
      "image/png": "[encoded data removed]",
      "text/plain": [
       "<Figure size 864x360 with 1 Axes>"
      ]
     },
     "metadata": {
      "needs_background": "light"
     },
     "output_type": "display_data"
    }
   ],
   "source": [
    "plot_feat_imp(gb2_clf, data=features, color='teal')"
   ]
  },
  {
   "cell_type": "markdown",
   "metadata": {},
   "source": [
    "#### TEN FOLD CROSS VALIDATION OPTIMIZED GB MODEL"
   ]
  },
  {
   "cell_type": "code",
   "execution_count": 98,
   "metadata": {},
   "outputs": [],
   "source": [
    "# 10 fold Cross-validation \n",
    "#gb2_kf = KFold(n_splits=10, shuffle=True, random_state=10)\n",
    "#gb2_cv_results_a = cross_val_score(gb2_clf, features, target, cv=gb2_kf, scoring=\"accuracy\",n_jobs=-1) \n",
    "#gb2_cv_results_p = cross_val_score(gb2_clf, features, target, cv=gb2_kf, scoring=\"precision_weighted\",n_jobs=-1)\n",
    "#gb2_cv_results_r = cross_val_score(gb2_clf, features, target, cv=gb2_kf, scoring=\"recall_weighted\",n_jobs=-1)\n",
    "#gb2_cv_results_f = cross_val_score(gb2_clf, features, target, cv=gb2_kf, scoring=\"f1_weighted\",n_jobs=-1)"
   ]
  },
  {
   "cell_type": "code",
   "execution_count": 99,
   "metadata": {},
   "outputs": [],
   "source": [
    "gb2_cv_a = [0.63835245, 0.63992019, 0.64241431, 0.64462339, 0.63842372,0.64106036, 0.63457564, 0.64127414, 0.64089225, 0.63732896]"
   ]
  },
  {
   "cell_type": "code",
   "execution_count": 100,
   "metadata": {},
   "outputs": [],
   "source": [
    "gb2_cv_p = [0.65524519, 0.66081168, 0.65721253, 0.6621263 , 0.65533842,0.65921023, 0.65001165, 0.65597372, 0.6591823 , 0.65292616]"
   ]
  },
  {
   "cell_type": "code",
   "execution_count": 101,
   "metadata": {},
   "outputs": [],
   "source": [
    "gb2_cv_r = [0.63835245, 0.63992019, 0.64241431, 0.64462339, 0.63842372,0.64106036, 0.63457564, 0.64127414, 0.64089225, 0.63732896]"
   ]
  },
  {
   "cell_type": "code",
   "execution_count": 102,
   "metadata": {},
   "outputs": [],
   "source": [
    "gb2_cv_f = [0.62903488, 0.62847234, 0.63240717, 0.63488059, 0.62902904, 0.63004797, 0.6248041 , 0.63277999, 0.63073536, 0.62697438]"
   ]
  },
  {
   "cell_type": "markdown",
   "metadata": {},
   "source": [
    "# 2.8 Gradient Boosting Classifier with Engineered Features"
   ]
  },
  {
   "cell_type": "markdown",
   "metadata": {},
   "source": [
    "#### FIT GB MODEL WITH ENGINEERED FEATURES"
   ]
  },
  {
   "cell_type": "code",
   "execution_count": 103,
   "metadata": {},
   "outputs": [
    {
     "data": {
      "text/plain": [
       "GradientBoostingClassifier(criterion='friedman_mse', init=None,\n",
       "                           learning_rate=0.1, loss='deviance', max_depth=6,\n",
       "                           max_features=4, max_leaf_nodes=None,\n",
       "                           min_impurity_decrease=0.0, min_impurity_split=None,\n",
       "                           min_samples_leaf=1, min_samples_split=2,\n",
       "                           min_weight_fraction_leaf=0.0, n_estimators=30,\n",
       "                           n_iter_no_change=None, presort='auto',\n",
       "                           random_state=10, subsample=1.0, tol=0.0001,\n",
       "                           validation_fraction=0.1, verbose=0,\n",
       "                           warm_start=False)"
      ]
     },
     "execution_count": 103,
     "metadata": {},
     "output_type": "execute_result"
    }
   ],
   "source": [
    "# Use Gradient Boosting Classifier with Optimized parameters and Engineered Features\n",
    "gb3_clf = GradientBoostingClassifier(n_estimators=30, max_depth=6, random_state=10, max_features=4, learning_rate=0.10)\n",
    "gb3_clf.fit(x_train1, y_train1)"
   ]
  },
  {
   "cell_type": "code",
   "execution_count": 104,
   "metadata": {},
   "outputs": [],
   "source": [
    "gb3_pred = gb3_clf.predict(x_test1)"
   ]
  },
  {
   "cell_type": "markdown",
   "metadata": {},
   "source": [
    "#### CLASSIFICATION REPORT AND CONFUSION MATRIX GB MODEL ENGINEERED FEATURES"
   ]
  },
  {
   "cell_type": "code",
   "execution_count": 105,
   "metadata": {},
   "outputs": [
    {
     "name": "stdout",
     "output_type": "stream",
     "text": [
      "------------------------------------------------------------\n",
      "GB Model Optimized Parameters and Engineered Features\n",
      "------------------------------------------------------------\n",
      "              precision    recall  f1-score   support\n",
      "\n",
      "           0       0.59      0.75      0.66     17526\n",
      "           1       0.65      0.47      0.55     17556\n",
      "\n",
      "    accuracy                           0.61     35082\n",
      "   macro avg       0.62      0.61      0.60     35082\n",
      "weighted avg       0.62      0.61      0.60     35082\n",
      "\n",
      "------------------------------------------------------------\n"
     ]
    }
   ],
   "source": [
    "print(60*'-')\n",
    "print('GB Model Optimized Parameters and Engineered Features')\n",
    "print(60*'-')\n",
    "report3_gb = classification_report(y_test1, gb3_pred)\n",
    "print(report3_gb)\n",
    "print(60*'-')"
   ]
  },
  {
   "cell_type": "code",
   "execution_count": 106,
   "metadata": {},
   "outputs": [
    {
     "data": {
      "image/png": "[encoded data removed]",
      "text/plain": [
       "<Figure size 720x360 with 1 Axes>"
      ]
     },
     "metadata": {
      "needs_background": "light"
     },
     "output_type": "display_data"
    }
   ],
   "source": [
    "conf_matrix(y_test1, gb3_pred, cmap=\"Greens\")"
   ]
  },
  {
   "cell_type": "markdown",
   "metadata": {},
   "source": [
    "#### TRAIN AND TEST SCORES GB MODEL WITH ENGINEERED FEATURES"
   ]
  },
  {
   "cell_type": "code",
   "execution_count": 107,
   "metadata": {},
   "outputs": [
    {
     "name": "stdout",
     "output_type": "stream",
     "text": [
      "GB MODEL ENGINEERED FEATURES FINAL TRAIN SCORES: 0.6146456872470213\n",
      "GB MODEL ENGINEERED FEATURES FINAL TEST SCORES: 0.6116812040362579\n"
     ]
    }
   ],
   "source": [
    "# Train and Test Scores For GB Model with Engineered Features\n",
    "print(\"GB MODEL ENGINEERED FEATURES FINAL TRAIN SCORES: {}\".format(gb3_clf.score(x_train1, y_train1)))\n",
    "print(\"GB MODEL ENGINEERED FEATURES FINAL TEST SCORES: {}\".format(gb3_clf.score(x_test1, y_test1)))"
   ]
  },
  {
   "cell_type": "markdown",
   "metadata": {},
   "source": [
    "#### FEATURE IMPORTANCES GB MODEL ENGINEERED FEATURES"
   ]
  },
  {
   "cell_type": "code",
   "execution_count": 108,
   "metadata": {},
   "outputs": [
    {
     "data": {
      "image/png": "[encoded data removed]",
      "text/plain": [
       "<Figure size 864x360 with 1 Axes>"
      ]
     },
     "metadata": {
      "needs_background": "light"
     },
     "output_type": "display_data"
    }
   ],
   "source": [
    "plot_feat_imp(gb3_clf, data=features2, color='teal')"
   ]
  },
  {
   "cell_type": "markdown",
   "metadata": {},
   "source": [
    "#### 10 FOLD CROSS VALIDATION GB MODEL ENGINEERED FEATURES"
   ]
  },
  {
   "cell_type": "code",
   "execution_count": 109,
   "metadata": {},
   "outputs": [],
   "source": [
    "# 10 fold Cross-validation \n",
    "#gb3_kf = KFold(n_splits=10, shuffle=True, random_state=10)\n",
    "#gb3_cv_results_a = cross_val_score(gb3_clf, features2, target2, cv=gb3_kf, scoring=\"accuracy\",n_jobs=-1) \n",
    "#gb3_cv_results_p = cross_val_score(gb3_clf, features2, target2, cv=gb3_kf, scoring=\"precision_weighted\",n_jobs=-1)\n",
    "#gb3_cv_results_r = cross_val_score(gb3_clf, features2, target2, cv=gb3_kf, scoring=\"recall_weighted\",n_jobs=-1)\n",
    "#gb3_cv_results_f = cross_val_score(gb3_clf, features2, target2, cv=gb3_kf, scoring=\"f1_weighted\",n_jobs=-1)"
   ]
  },
  {
   "cell_type": "code",
   "execution_count": 110,
   "metadata": {},
   "outputs": [],
   "source": [
    "gb3_cv_a = [0.61013326, 0.61341124, 0.61105965, 0.61141595, 0.60585762,0.60692653, 0.60685527, 0.60913561, 0.60711231, 0.61181585]"
   ]
  },
  {
   "cell_type": "code",
   "execution_count": 111,
   "metadata": {},
   "outputs": [],
   "source": [
    "gb3_cv_p = [0.61942858, 0.62316855, 0.61704483, 0.61869183, 0.61398299,0.61365242, 0.61245652, 0.61426594, 0.61591141, 0.61769236]"
   ]
  },
  {
   "cell_type": "code",
   "execution_count": 112,
   "metadata": {},
   "outputs": [],
   "source": [
    "gb3_cv_r = [0.61013326, 0.61341124, 0.61105965, 0.61141595, 0.60585762,0.60692653, 0.60685527, 0.60913561, 0.60711231, 0.61181585]"
   ]
  },
  {
   "cell_type": "code",
   "execution_count": 113,
   "metadata": {},
   "outputs": [],
   "source": [
    "gb3_cv_f = [0.60326605, 0.60624117, 0.60458181, 0.60548649, 0.59949717,0.6005301 , 0.60178429, 0.60485033, 0.60002858, 0.6061086]"
   ]
  },
  {
   "cell_type": "markdown",
   "metadata": {},
   "source": [
    "# 2.9 Visually Compare Models 10-Fold Cross Validation Metrics"
   ]
  },
  {
   "cell_type": "markdown",
   "metadata": {},
   "source": [
    "#### DEFINE VARIABLES. BUILD FUNCTION FOR PLOTS"
   ]
  },
  {
   "cell_type": "code",
   "execution_count": 114,
   "metadata": {},
   "outputs": [],
   "source": [
    "# Define Variables for Plot\n",
    "res = [rf_cv_a, rf2_cv_a, ab_cv_a, ab2_cv_a, gb_cv_a, gb2_cv_a, gb3_cv_a]\n",
    "names = ['RForest', 'RForest_EF', 'AdaBoost', 'AdaBoost_EF', 'GBoost', 'GBoost_Opt', 'GBoost_Opt_EF']"
   ]
  },
  {
   "cell_type": "code",
   "execution_count": 115,
   "metadata": {},
   "outputs": [],
   "source": [
    "# Function for plotting the 10 fold cross validated scores for Models\n",
    "def cv_plot(names=names, res=res, a='Accuracy'):\n",
    "    plt.figure(figsize=(18,6))\n",
    "    sns.set(font_scale=1.5)\n",
    "    sns.boxplot(x=names, y=res, notch=True)\n",
    "    plt.title('10-Fold CV {} '.format(a), fontsize=18)\n",
    "    plt.ylabel('{}'.format(a), fontsize= 17)\n",
    "    plt.show()"
   ]
  },
  {
   "cell_type": "markdown",
   "metadata": {},
   "source": [
    "#### ACCURACY"
   ]
  },
  {
   "cell_type": "code",
   "execution_count": 116,
   "metadata": {},
   "outputs": [
    {
     "data": {
      "image/png": "[encoded data removed]",
      "text/plain": [
       "<Figure size 1296x432 with 1 Axes>"
      ]
     },
     "metadata": {
      "needs_background": "light"
     },
     "output_type": "display_data"
    }
   ],
   "source": [
    "cv_plot()"
   ]
  },
  {
   "cell_type": "markdown",
   "metadata": {},
   "source": [
    "#### PRECISION"
   ]
  },
  {
   "cell_type": "code",
   "execution_count": 117,
   "metadata": {},
   "outputs": [
    {
     "data": {
      "image/png": "[encoded data removed]",
      "text/plain": [
       "<Figure size 1296x432 with 1 Axes>"
      ]
     },
     "metadata": {},
     "output_type": "display_data"
    }
   ],
   "source": [
    "res2 = [rf_cv_p, rf2_cv_p, ab_cv_p, ab2_cv_p, gb_cv_p, gb2_cv_p, gb3_cv_p]\n",
    "cv_plot(names=names, res=res2, a='Precision')"
   ]
  },
  {
   "cell_type": "markdown",
   "metadata": {},
   "source": [
    "#### F1-SCORE"
   ]
  },
  {
   "cell_type": "code",
   "execution_count": 118,
   "metadata": {},
   "outputs": [
    {
     "data": {
      "image/png": "[encoded data removed]",
      "text/plain": [
       "<Figure size 1296x432 with 1 Axes>"
      ]
     },
     "metadata": {},
     "output_type": "display_data"
    }
   ],
   "source": [
    "res3 = [rf_cv_f, rf2_cv_f, ab_cv_f, ab2_cv_f, gb_cv_f, gb2_cv_f, gb3_cv_f]\n",
    "cv_plot(names=names, res=res3, a='F1-Score')"
   ]
  },
  {
   "cell_type": "markdown",
   "metadata": {},
   "source": [
    "#### RECALL"
   ]
  },
  {
   "cell_type": "code",
   "execution_count": 119,
   "metadata": {},
   "outputs": [
    {
     "data": {
      "image/png": "[encoded data removed]",
      "text/plain": [
       "<Figure size 1296x432 with 1 Axes>"
      ]
     },
     "metadata": {},
     "output_type": "display_data"
    }
   ],
   "source": [
    "res4 = [rf_cv_r, rf2_cv_r, ab_cv_r, ab2_cv_r, gb_cv_r, gb2_cv_r, gb3_cv_r]\n",
    "cv_plot(names=names, res=res4, a='Recall')"
   ]
  },
  {
   "cell_type": "markdown",
   "metadata": {},
   "source": [
    "# 2.10 Conclusions: What is Our Best Model?\n",
    "- To answer this question let’s start with what we know from our previous analysis.\n",
    "- The overall shooting percentage in the NBA for the 2014-2015 season was 45%.\n",
    "- This gives us the ground truth values that we would like to improve upon with our models.\n",
    "- 55% of all shots taken were missed (class 0 in our models).\n",
    "- 45% of all shots taken were made (class 1 in our models).\n",
    "- Looking at the graphs of the 10-fold validation metrics it is clear the gradient boosting model performs the best.  Right?\n",
    "- Yes and No.  The gradient boosting model classifies or “predicts” missed shots correctly 81% of the time. A 26% increase above the actual value.  55% of all shots were missed during this season.  This gives us valuable and useful information.  With this model, and the feature importances associated with the model, we have insight into what constitutes a “bad” shot or a shot that is likely to be missed. For instance, shot distance and closest defender were important features in this model.  Passing the ball to a player who is closer to the basket and less closely defended will likely improve the chances of making the shot.\n",
    "- However, the gradient boosting model only classified made shots correctly at 48%. Just 3% above the actual value of 45% of all shots made during this season.\n",
    "- It was clear from initial analysis that made shots would be the more difficult class to classify.\n",
    "- I intentionally included the AdaBoost model with a decision tree base estimator.  This model focuses more on the harder to classify examples.\n",
    "- With the AdaBoost model we were able to correctly classify missed shots 71% of the time.  However, we improved the classification of made shots to 54%.  And feature importances shifted.  Home game and the period the shot was taken became the most important features.  Shot distance and closest defender were still important.  Having these two added dimensions gives a better idea of what constitutes a “good” shot with a better chance of going in.\n",
    "- This is a case where one model outperforms the other in classifying a particular class.  We don’t have to choose.  Each model provides important information and should be used in combination.\n"
   ]
  },
  {
   "cell_type": "markdown",
   "metadata": {},
   "source": [
    "# 2.11 Future Directions\n",
    "- We only have one season of data.  Data from multiple seasons would be helpful for statistical analysis as well as building more robust models.\n",
    "- To improve our model for classifying game outcome we should add more statistics that are important in determining the outcome of the game.  Rebounds, free throws, steals, turnovers and points off turnovers are all stats that are generally skewed in the winner or losers favor.  A Team that has more rebounds (especially offensive rebounds), more steals, less turnovers and more free throws will be much more likely to win the game.  This information was not available in our data set.\n",
    "- In this data set we were only given shot distance.  It would be helpful to have the shot coordinates.  Where the shot was taken on the floor.  A corner 3-pointer is only 20 feet from the basket and is therefore a higher percentage shot.  A 3-point shot in front of the basket is 23.75 feet and not surprisingly a lower percentage shot.  It would have been interesting to see the shot groupings by actual position on the court.\n"
   ]
  },
  {
   "cell_type": "markdown",
   "metadata": {},
   "source": [
    "# THANK YOU!"
   ]
  }
 ],
 "metadata": {
  "kernelspec": {
   "display_name": "Python 3",
   "language": "python",
   "name": "python3"
  },
  "language_info": {
   "codemirror_mode": {
    "name": "ipython",
    "version": 3
   },
   "file_extension": ".py",
   "mimetype": "text/x-python",
   "name": "python",
   "nbconvert_exporter": "python",
   "pygments_lexer": "ipython3",
   "version": "3.7.3"
  }
 },
 "nbformat": 4,
 "nbformat_minor": 2
}
