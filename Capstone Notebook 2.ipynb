{
 "cells": [
  {
   "cell_type": "markdown",
   "metadata": {},
   "source": [
    "# Capstone Notebook 2: Further Analysis of NBA Shot Logs"
   ]
  },
  {
   "cell_type": "markdown",
   "metadata": {},
   "source": [
    "# Introduction\n",
    "- In this notebook we will look at some key offensive and defensive players\n",
    "- We will look at the players with the highest close-range shooting percentages. We will limit the analysis to players who take at least as many shots as the league average\n",
    "- We will look at players with the highest 3-point shooting accuracy. Again, with a minimum cut-off\n",
    "- We will also look at the best mid-range shooters between 10 and 24 feet from the basket.\n",
    "- We will look at the best defenders.  We will look at the percentage of shots missed while that defender is guarding.  With a minimum avg of 10 shots defended per game.\n",
    "- This will further our previous analysis.  This will also give further evidence for the growing importance of the close-range shot and the 3-point shot in the NBA.\n",
    "- We will also show the mid-range shot is not dead.  Just not the first line option it has been in the past"
   ]
  },
  {
   "cell_type": "markdown",
   "metadata": {},
   "source": [
    "# 1.1 Overall View of NBA's Scorers And Defenders\n",
    "- First view is total field goals made by each player. We will look closer at shot percentages close range and from the 3-point line.\n",
    "- Second view is field goals made (at least 200) with the closest defender.  Usually a team’s best defenders guard the other team’s best shooters.  Consequently, the best defenders have a the most points scored against them.  We will analyze this in more detail by determining which defenders produce the highest percentage of missed shots when defending.\n",
    "- Third view shows the overall point totals for the league’s top 12 scorers.  This view is important.  This view also includes points from free throws.  The rest of the data set only includes information on shots from the field.  It will be interesting to see how the best shooters differ from the best overall scorers.  Most of the leagues top scorers also shoot the most free-throws.  It should be similar but not exact.\n"
   ]
  },
  {
   "cell_type": "code",
   "execution_count": 1,
   "metadata": {
    "scrolled": false
   },
   "outputs": [
    {
     "data": {
      "text/html": [
       "<div class='tableauPlaceholder' id='viz1566933415918' style='position: relative'><noscript><a href='#'><img alt=' ' src='https:&#47;&#47;public.tableau.com&#47;static&#47;images&#47;Sc&#47;ScorersandDefenders&#47;ScorersandDefenders&#47;1_rss.png' style='border: none' /></a></noscript><object class='tableauViz'  style='display:none;'><param name='host_url' value='https%3A%2F%2Fpublic.tableau.com%2F' /> <param name='embed_code_version' value='3' /> <param name='site_root' value='' /><param name='name' value='ScorersandDefenders&#47;ScorersandDefenders' /><param name='tabs' value='no' /><param name='toolbar' value='yes' /><param name='static_image' value='https:&#47;&#47;public.tableau.com&#47;static&#47;images&#47;Sc&#47;ScorersandDefenders&#47;ScorersandDefenders&#47;1.png' /> <param name='animate_transition' value='yes' /><param name='display_static_image' value='yes' /><param name='display_spinner' value='yes' /><param name='display_overlay' value='yes' /><param name='display_count' value='yes' /><param name='filter' value='publish=yes' /></object></div>                <script type='text/javascript'>                    var divElement = document.getElementById('viz1566933415918');                    var vizElement = divElement.getElementsByTagName('object')[0];                    vizElement.style.minWidth='920px';vizElement.style.maxWidth='1120px';vizElement.style.width='100%';vizElement.style.height='887px';                    var scriptElement = document.createElement('script');                    scriptElement.src = 'https://public.tableau.com/javascripts/api/viz_v1.js';                    vizElement.parentNode.insertBefore(scriptElement, vizElement);                </script>\n"
      ],
      "text/plain": [
       "<IPython.core.display.HTML object>"
      ]
     },
     "metadata": {},
     "output_type": "display_data"
    }
   ],
   "source": [
    "%%HTML\n",
    "<div class='tableauPlaceholder' id='viz1566933415918' style='position: relative'><noscript><a href='#'><img alt=' ' src='https:&#47;&#47;public.tableau.com&#47;static&#47;images&#47;Sc&#47;ScorersandDefenders&#47;ScorersandDefenders&#47;1_rss.png' style='border: none' /></a></noscript><object class='tableauViz'  style='display:none;'><param name='host_url' value='https%3A%2F%2Fpublic.tableau.com%2F' /> <param name='embed_code_version' value='3' /> <param name='site_root' value='' /><param name='name' value='ScorersandDefenders&#47;ScorersandDefenders' /><param name='tabs' value='no' /><param name='toolbar' value='yes' /><param name='static_image' value='https:&#47;&#47;public.tableau.com&#47;static&#47;images&#47;Sc&#47;ScorersandDefenders&#47;ScorersandDefenders&#47;1.png' /> <param name='animate_transition' value='yes' /><param name='display_static_image' value='yes' /><param name='display_spinner' value='yes' /><param name='display_overlay' value='yes' /><param name='display_count' value='yes' /><param name='filter' value='publish=yes' /></object></div>                <script type='text/javascript'>                    var divElement = document.getElementById('viz1566933415918');                    var vizElement = divElement.getElementsByTagName('object')[0];                    vizElement.style.minWidth='920px';vizElement.style.maxWidth='1120px';vizElement.style.width='100%';vizElement.style.height='887px';                    var scriptElement = document.createElement('script');                    scriptElement.src = 'https://public.tableau.com/javascripts/api/viz_v1.js';                    vizElement.parentNode.insertBefore(scriptElement, vizElement);                </script>"
   ]
  },
  {
   "cell_type": "markdown",
   "metadata": {},
   "source": [
    "# 1.2 Imports"
   ]
  },
  {
   "cell_type": "code",
   "execution_count": 2,
   "metadata": {},
   "outputs": [],
   "source": [
    "import numpy as np\n",
    "import pandas as pd\n",
    "import matplotlib.pyplot as plt\n",
    "from matplotlib.pyplot import xticks\n",
    "from scipy.stats import skew\n",
    "import seaborn as sns"
   ]
  },
  {
   "cell_type": "markdown",
   "metadata": {},
   "source": [
    "# 1.3 Read the NBA Shots Log Data"
   ]
  },
  {
   "cell_type": "code",
   "execution_count": 3,
   "metadata": {},
   "outputs": [],
   "source": [
    "# Read The NBA Shots Log Data from csv file\n",
    "data = pd.read_csv('shot_logs.csv')"
   ]
  },
  {
   "cell_type": "code",
   "execution_count": 4,
   "metadata": {},
   "outputs": [
    {
     "data": {
      "text/html": [
       "<div>\n",
       "<style scoped>\n",
       "    .dataframe tbody tr th:only-of-type {\n",
       "        vertical-align: middle;\n",
       "    }\n",
       "\n",
       "    .dataframe tbody tr th {\n",
       "        vertical-align: top;\n",
       "    }\n",
       "\n",
       "    .dataframe thead th {\n",
       "        text-align: right;\n",
       "    }\n",
       "</style>\n",
       "<table border=\"1\" class=\"dataframe\">\n",
       "  <thead>\n",
       "    <tr style=\"text-align: right;\">\n",
       "      <th></th>\n",
       "      <th>GAME_ID</th>\n",
       "      <th>MATCHUP</th>\n",
       "      <th>LOCATION</th>\n",
       "      <th>W</th>\n",
       "      <th>FINAL_MARGIN</th>\n",
       "      <th>SHOT_NUMBER</th>\n",
       "      <th>PERIOD</th>\n",
       "      <th>GAME_CLOCK</th>\n",
       "      <th>SHOT_CLOCK</th>\n",
       "      <th>DRIBBLES</th>\n",
       "      <th>...</th>\n",
       "      <th>SHOT_DIST</th>\n",
       "      <th>PTS_TYPE</th>\n",
       "      <th>SHOT_RESULT</th>\n",
       "      <th>CLOSEST_DEFENDER</th>\n",
       "      <th>CLOSEST_DEFENDER_PLAYER_ID</th>\n",
       "      <th>CLOSE_DEF_DIST</th>\n",
       "      <th>FGM</th>\n",
       "      <th>PTS</th>\n",
       "      <th>player_name</th>\n",
       "      <th>player_id</th>\n",
       "    </tr>\n",
       "  </thead>\n",
       "  <tbody>\n",
       "    <tr>\n",
       "      <th>0</th>\n",
       "      <td>21400899</td>\n",
       "      <td>MAR 04, 2015 - CHA @ BKN</td>\n",
       "      <td>A</td>\n",
       "      <td>W</td>\n",
       "      <td>24</td>\n",
       "      <td>1</td>\n",
       "      <td>1</td>\n",
       "      <td>1:09</td>\n",
       "      <td>10.8</td>\n",
       "      <td>2</td>\n",
       "      <td>...</td>\n",
       "      <td>7.7</td>\n",
       "      <td>2</td>\n",
       "      <td>made</td>\n",
       "      <td>Anderson, Alan</td>\n",
       "      <td>101187</td>\n",
       "      <td>1.3</td>\n",
       "      <td>1</td>\n",
       "      <td>2</td>\n",
       "      <td>brian roberts</td>\n",
       "      <td>203148</td>\n",
       "    </tr>\n",
       "    <tr>\n",
       "      <th>1</th>\n",
       "      <td>21400899</td>\n",
       "      <td>MAR 04, 2015 - CHA @ BKN</td>\n",
       "      <td>A</td>\n",
       "      <td>W</td>\n",
       "      <td>24</td>\n",
       "      <td>2</td>\n",
       "      <td>1</td>\n",
       "      <td>0:14</td>\n",
       "      <td>3.4</td>\n",
       "      <td>0</td>\n",
       "      <td>...</td>\n",
       "      <td>28.2</td>\n",
       "      <td>3</td>\n",
       "      <td>missed</td>\n",
       "      <td>Bogdanovic, Bojan</td>\n",
       "      <td>202711</td>\n",
       "      <td>6.1</td>\n",
       "      <td>0</td>\n",
       "      <td>0</td>\n",
       "      <td>brian roberts</td>\n",
       "      <td>203148</td>\n",
       "    </tr>\n",
       "    <tr>\n",
       "      <th>2</th>\n",
       "      <td>21400899</td>\n",
       "      <td>MAR 04, 2015 - CHA @ BKN</td>\n",
       "      <td>A</td>\n",
       "      <td>W</td>\n",
       "      <td>24</td>\n",
       "      <td>3</td>\n",
       "      <td>1</td>\n",
       "      <td>0:00</td>\n",
       "      <td>NaN</td>\n",
       "      <td>3</td>\n",
       "      <td>...</td>\n",
       "      <td>10.1</td>\n",
       "      <td>2</td>\n",
       "      <td>missed</td>\n",
       "      <td>Bogdanovic, Bojan</td>\n",
       "      <td>202711</td>\n",
       "      <td>0.9</td>\n",
       "      <td>0</td>\n",
       "      <td>0</td>\n",
       "      <td>brian roberts</td>\n",
       "      <td>203148</td>\n",
       "    </tr>\n",
       "  </tbody>\n",
       "</table>\n",
       "<p>3 rows × 21 columns</p>\n",
       "</div>"
      ],
      "text/plain": [
       "    GAME_ID                   MATCHUP LOCATION  W  FINAL_MARGIN  SHOT_NUMBER  \\\n",
       "0  21400899  MAR 04, 2015 - CHA @ BKN        A  W            24            1   \n",
       "1  21400899  MAR 04, 2015 - CHA @ BKN        A  W            24            2   \n",
       "2  21400899  MAR 04, 2015 - CHA @ BKN        A  W            24            3   \n",
       "\n",
       "   PERIOD GAME_CLOCK  SHOT_CLOCK  DRIBBLES  ...  SHOT_DIST  PTS_TYPE  \\\n",
       "0       1       1:09        10.8         2  ...        7.7         2   \n",
       "1       1       0:14         3.4         0  ...       28.2         3   \n",
       "2       1       0:00         NaN         3  ...       10.1         2   \n",
       "\n",
       "   SHOT_RESULT   CLOSEST_DEFENDER CLOSEST_DEFENDER_PLAYER_ID  CLOSE_DEF_DIST  \\\n",
       "0         made     Anderson, Alan                     101187             1.3   \n",
       "1       missed  Bogdanovic, Bojan                     202711             6.1   \n",
       "2       missed  Bogdanovic, Bojan                     202711             0.9   \n",
       "\n",
       "   FGM  PTS    player_name player_id  \n",
       "0    1    2  brian roberts    203148  \n",
       "1    0    0  brian roberts    203148  \n",
       "2    0    0  brian roberts    203148  \n",
       "\n",
       "[3 rows x 21 columns]"
      ]
     },
     "execution_count": 4,
     "metadata": {},
     "output_type": "execute_result"
    }
   ],
   "source": [
    "# Visualize the head of the data frame\n",
    "data.head(3)"
   ]
  },
  {
   "cell_type": "markdown",
   "metadata": {},
   "source": [
    "# 1.4 Top 10 Players by Overall Shooting Percentage"
   ]
  },
  {
   "cell_type": "markdown",
   "metadata": {},
   "source": [
    "#### DETERMINE THE OVERALL SHOOTING PERCENTAGE OF ALL PLAYERS IN THE NBA"
   ]
  },
  {
   "cell_type": "code",
   "execution_count": 5,
   "metadata": {},
   "outputs": [
    {
     "name": "stdout",
     "output_type": "stream",
     "text": [
      "The Overall Shooting Percentage For All NBA Players is 45.0%\n"
     ]
    }
   ],
   "source": [
    "# Nba shot accuracy\n",
    "made = data[data.SHOT_RESULT == 'made']['SHOT_RESULT'].count()\n",
    "accuracy = round(made / len(data), 2)\n",
    "print('The Overall Shooting Percentage For All NBA Players is {}%'.format(accuracy*100))"
   ]
  },
  {
   "cell_type": "markdown",
   "metadata": {},
   "source": [
    "#### DETERMINE THE NUMBER OF SHOTS PER GAME FOR EACH NBA PLAYER"
   ]
  },
  {
   "cell_type": "code",
   "execution_count": 6,
   "metadata": {},
   "outputs": [
    {
     "data": {
      "text/html": [
       "<div>\n",
       "<style scoped>\n",
       "    .dataframe tbody tr th:only-of-type {\n",
       "        vertical-align: middle;\n",
       "    }\n",
       "\n",
       "    .dataframe tbody tr th {\n",
       "        vertical-align: top;\n",
       "    }\n",
       "\n",
       "    .dataframe thead th {\n",
       "        text-align: right;\n",
       "    }\n",
       "</style>\n",
       "<table border=\"1\" class=\"dataframe\">\n",
       "  <thead>\n",
       "    <tr style=\"text-align: right;\">\n",
       "      <th></th>\n",
       "      <th>player_name</th>\n",
       "      <th>mean_shot</th>\n",
       "    </tr>\n",
       "  </thead>\n",
       "  <tbody>\n",
       "    <tr>\n",
       "      <th>0</th>\n",
       "      <td>aaron brooks</td>\n",
       "      <td>9.20</td>\n",
       "    </tr>\n",
       "    <tr>\n",
       "      <th>1</th>\n",
       "      <td>aaron gordon</td>\n",
       "      <td>3.85</td>\n",
       "    </tr>\n",
       "    <tr>\n",
       "      <th>2</th>\n",
       "      <td>al farouq aminu</td>\n",
       "      <td>4.78</td>\n",
       "    </tr>\n",
       "    <tr>\n",
       "      <th>3</th>\n",
       "      <td>al horford</td>\n",
       "      <td>12.54</td>\n",
       "    </tr>\n",
       "    <tr>\n",
       "      <th>4</th>\n",
       "      <td>al jefferson</td>\n",
       "      <td>16.00</td>\n",
       "    </tr>\n",
       "  </tbody>\n",
       "</table>\n",
       "</div>"
      ],
      "text/plain": [
       "       player_name  mean_shot\n",
       "0     aaron brooks       9.20\n",
       "1     aaron gordon       3.85\n",
       "2  al farouq aminu       4.78\n",
       "3       al horford      12.54\n",
       "4     al jefferson      16.00"
      ]
     },
     "execution_count": 6,
     "metadata": {},
     "output_type": "execute_result"
    }
   ],
   "source": [
    "# Shots per Game\n",
    "shot_taken = data.groupby(['player_name', 'GAME_ID'])['SHOT_RESULT'].count()\n",
    "shot_taken = shot_taken.reset_index()\n",
    "shot_taken = round(shot_taken.groupby('player_name')['SHOT_RESULT'].mean(),2)\n",
    "shot_taken = shot_taken.reset_index()\n",
    "shot_taken.columns = ['player_name', 'mean_shot']\n",
    "shot_taken.head()"
   ]
  },
  {
   "cell_type": "code",
   "execution_count": 7,
   "metadata": {},
   "outputs": [
    {
     "name": "stdout",
     "output_type": "stream",
     "text": [
      "The Average Number Of Shots Per Game In The NBA is 8.73\n"
     ]
    }
   ],
   "source": [
    "print('The Average Number Of Shots Per Game In The NBA is {}'.format(round(shot_taken.mean_shot.mean(), 2)))"
   ]
  },
  {
   "cell_type": "markdown",
   "metadata": {},
   "source": [
    "#### WE WILL LIMIT OUR ANALYSIS TO PLAYERS WITH AT LEAST 9 SHOTS PER GAME"
   ]
  },
  {
   "cell_type": "code",
   "execution_count": 8,
   "metadata": {},
   "outputs": [
    {
     "data": {
      "text/html": [
       "<div>\n",
       "<style scoped>\n",
       "    .dataframe tbody tr th:only-of-type {\n",
       "        vertical-align: middle;\n",
       "    }\n",
       "\n",
       "    .dataframe tbody tr th {\n",
       "        vertical-align: top;\n",
       "    }\n",
       "\n",
       "    .dataframe thead th {\n",
       "        text-align: right;\n",
       "    }\n",
       "</style>\n",
       "<table border=\"1\" class=\"dataframe\">\n",
       "  <thead>\n",
       "    <tr style=\"text-align: right;\">\n",
       "      <th></th>\n",
       "      <th>player_name</th>\n",
       "      <th>accuracy</th>\n",
       "      <th>avg_shots_pg</th>\n",
       "    </tr>\n",
       "  </thead>\n",
       "  <tbody>\n",
       "    <tr>\n",
       "      <th>81</th>\n",
       "      <td>dwight howard</td>\n",
       "      <td>57.49</td>\n",
       "      <td>10.77</td>\n",
       "    </tr>\n",
       "    <tr>\n",
       "      <th>179</th>\n",
       "      <td>marcin gortat</td>\n",
       "      <td>54.56</td>\n",
       "      <td>9.34</td>\n",
       "    </tr>\n",
       "    <tr>\n",
       "      <th>71</th>\n",
       "      <td>derrick favors</td>\n",
       "      <td>54.51</td>\n",
       "      <td>12.09</td>\n",
       "    </tr>\n",
       "    <tr>\n",
       "      <th>19</th>\n",
       "      <td>anthony davis</td>\n",
       "      <td>54.34</td>\n",
       "      <td>17.16</td>\n",
       "    </tr>\n",
       "    <tr>\n",
       "      <th>3</th>\n",
       "      <td>al horford</td>\n",
       "      <td>54.13</td>\n",
       "      <td>12.54</td>\n",
       "    </tr>\n",
       "  </tbody>\n",
       "</table>\n",
       "</div>"
      ],
      "text/plain": [
       "        player_name  accuracy  avg_shots_pg\n",
       "81    dwight howard     57.49         10.77\n",
       "179   marcin gortat     54.56          9.34\n",
       "71   derrick favors     54.51         12.09\n",
       "19    anthony davis     54.34         17.16\n",
       "3        al horford     54.13         12.54"
      ]
     },
     "execution_count": 8,
     "metadata": {},
     "output_type": "execute_result"
    }
   ],
   "source": [
    "players_made = data[data.SHOT_RESULT == 'made'].groupby('player_name')['SHOT_RESULT'].count()\n",
    "total_shots_player = data.groupby('player_name')['SHOT_RESULT'].count()\n",
    "accuracy_players = round(players_made / total_shots_player,4) *100\n",
    "accuracy_players = accuracy_players.reset_index()\n",
    "accuracy_players.columns = ['player_name', 'accuracy']\n",
    "accuracy_players['avg_shots_pg']  = shot_taken['mean_shot']\n",
    "# Now filter for above 9 shots per game\n",
    "accuracy_filtered_players = accuracy_players[accuracy_players.avg_shots_pg >= 9]\n",
    "accuracy_filtered_players = accuracy_filtered_players.sort_values(['accuracy'], ascending=False)\n",
    "accuracy_filtered_players.head()"
   ]
  },
  {
   "cell_type": "markdown",
   "metadata": {},
   "source": [
    "#### HIGHEST SHOOTING PERCENTAGES OCCUR CLOSE TO THE BASKET.  ADD AVERAGE SHOT DISTANCE TO DATA. THIS WILL BE GOOD FOR COMPARISON TO OUR 3-POINT SHOOTING ANALYSIS"
   ]
  },
  {
   "cell_type": "code",
   "execution_count": 9,
   "metadata": {},
   "outputs": [
    {
     "data": {
      "text/html": [
       "<div>\n",
       "<style scoped>\n",
       "    .dataframe tbody tr th:only-of-type {\n",
       "        vertical-align: middle;\n",
       "    }\n",
       "\n",
       "    .dataframe tbody tr th {\n",
       "        vertical-align: top;\n",
       "    }\n",
       "\n",
       "    .dataframe thead th {\n",
       "        text-align: right;\n",
       "    }\n",
       "</style>\n",
       "<table border=\"1\" class=\"dataframe\">\n",
       "  <thead>\n",
       "    <tr style=\"text-align: right;\">\n",
       "      <th></th>\n",
       "      <th>player_name</th>\n",
       "      <th>accuracy</th>\n",
       "      <th>avg_shots_pg</th>\n",
       "      <th>avg_shot_dist</th>\n",
       "    </tr>\n",
       "  </thead>\n",
       "  <tbody>\n",
       "    <tr>\n",
       "      <th>0</th>\n",
       "      <td>al horford</td>\n",
       "      <td>54.13</td>\n",
       "      <td>12.54</td>\n",
       "      <td>11.973566</td>\n",
       "    </tr>\n",
       "    <tr>\n",
       "      <th>1</th>\n",
       "      <td>andre drummond</td>\n",
       "      <td>50.83</td>\n",
       "      <td>11.08</td>\n",
       "      <td>4.400902</td>\n",
       "    </tr>\n",
       "    <tr>\n",
       "      <th>2</th>\n",
       "      <td>anthony davis</td>\n",
       "      <td>54.34</td>\n",
       "      <td>17.16</td>\n",
       "      <td>10.406540</td>\n",
       "    </tr>\n",
       "    <tr>\n",
       "      <th>3</th>\n",
       "      <td>carlos boozer</td>\n",
       "      <td>51.45</td>\n",
       "      <td>10.69</td>\n",
       "      <td>9.858387</td>\n",
       "    </tr>\n",
       "    <tr>\n",
       "      <th>4</th>\n",
       "      <td>derrick favors</td>\n",
       "      <td>54.51</td>\n",
       "      <td>12.09</td>\n",
       "      <td>7.729394</td>\n",
       "    </tr>\n",
       "    <tr>\n",
       "      <th>5</th>\n",
       "      <td>donatas motiejunas</td>\n",
       "      <td>50.87</td>\n",
       "      <td>9.76</td>\n",
       "      <td>9.441493</td>\n",
       "    </tr>\n",
       "    <tr>\n",
       "      <th>6</th>\n",
       "      <td>dwight howard</td>\n",
       "      <td>57.49</td>\n",
       "      <td>10.77</td>\n",
       "      <td>4.205689</td>\n",
       "    </tr>\n",
       "    <tr>\n",
       "      <th>7</th>\n",
       "      <td>marcin gortat</td>\n",
       "      <td>54.56</td>\n",
       "      <td>9.34</td>\n",
       "      <td>7.375614</td>\n",
       "    </tr>\n",
       "    <tr>\n",
       "      <th>8</th>\n",
       "      <td>nene hilario</td>\n",
       "      <td>52.40</td>\n",
       "      <td>9.04</td>\n",
       "      <td>9.740292</td>\n",
       "    </tr>\n",
       "    <tr>\n",
       "      <th>9</th>\n",
       "      <td>nikola vucevic</td>\n",
       "      <td>53.22</td>\n",
       "      <td>16.11</td>\n",
       "      <td>9.473503</td>\n",
       "    </tr>\n",
       "  </tbody>\n",
       "</table>\n",
       "</div>"
      ],
      "text/plain": [
       "          player_name  accuracy  avg_shots_pg  avg_shot_dist\n",
       "0          al horford     54.13         12.54      11.973566\n",
       "1      andre drummond     50.83         11.08       4.400902\n",
       "2       anthony davis     54.34         17.16      10.406540\n",
       "3       carlos boozer     51.45         10.69       9.858387\n",
       "4      derrick favors     54.51         12.09       7.729394\n",
       "5  donatas motiejunas     50.87          9.76       9.441493\n",
       "6       dwight howard     57.49         10.77       4.205689\n",
       "7       marcin gortat     54.56          9.34       7.375614\n",
       "8        nene hilario     52.40          9.04       9.740292\n",
       "9      nikola vucevic     53.22         16.11       9.473503"
      ]
     },
     "execution_count": 9,
     "metadata": {},
     "output_type": "execute_result"
    }
   ],
   "source": [
    "# Add avg shot distance, greater than 9 shots per game, keep top 10 players shooting percentage\n",
    "mean_dist_shot = data.groupby('player_name')['SHOT_DIST'].mean()\n",
    "mean_dist_shot = mean_dist_shot.reset_index()\n",
    "mean_dist_shot.columns = ['player_name', 'mean_dist_shot']\n",
    "accuracy_players['avg_shot_dist'] = mean_dist_shot['mean_dist_shot']\n",
    "top_accuracy = accuracy_players[accuracy_players.avg_shots_pg >= 9]\n",
    "top_accuracy = top_accuracy.sort_values(['accuracy'], ascending=False)\n",
    "top_accuracy = top_accuracy[:10]\n",
    "top_accuracy = top_accuracy.sort_values(['player_name'])\n",
    "top_accuracy = top_accuracy.reset_index(drop=True)\n",
    "top_accuracy"
   ]
  },
  {
   "cell_type": "markdown",
   "metadata": {},
   "source": [
    "## TOP 10 BEST SHOOTING PERCENTAGES (CLOSE RANGE)"
   ]
  },
  {
   "cell_type": "code",
   "execution_count": 10,
   "metadata": {},
   "outputs": [
    {
     "data": {
      "text/html": [
       "<div class='tableauPlaceholder' id='viz1566935632399' style='position: relative'><noscript><a href='#'><img alt=' ' src='https:&#47;&#47;public.tableau.com&#47;static&#47;images&#47;CR&#47;CRShooters&#47;CRShooters&#47;1_rss.png' style='border: none' /></a></noscript><object class='tableauViz'  style='display:none;'><param name='host_url' value='https%3A%2F%2Fpublic.tableau.com%2F' /> <param name='embed_code_version' value='3' /> <param name='site_root' value='' /><param name='name' value='CRShooters&#47;CRShooters' /><param name='tabs' value='no' /><param name='toolbar' value='yes' /><param name='static_image' value='https:&#47;&#47;public.tableau.com&#47;static&#47;images&#47;CR&#47;CRShooters&#47;CRShooters&#47;1.png' /> <param name='animate_transition' value='yes' /><param name='display_static_image' value='yes' /><param name='display_spinner' value='yes' /><param name='display_overlay' value='yes' /><param name='display_count' value='yes' /><param name='filter' value='publish=yes' /></object></div>                <script type='text/javascript'>                    var divElement = document.getElementById('viz1566935632399');                    var vizElement = divElement.getElementsByTagName('object')[0];                    vizElement.style.width='100%';vizElement.style.height=(divElement.offsetWidth*0.75)+'px';                    var scriptElement = document.createElement('script');                    scriptElement.src = 'https://public.tableau.com/javascripts/api/viz_v1.js';                    vizElement.parentNode.insertBefore(scriptElement, vizElement);                </script>\n"
      ],
      "text/plain": [
       "<IPython.core.display.HTML object>"
      ]
     },
     "metadata": {},
     "output_type": "display_data"
    }
   ],
   "source": [
    "%%HTML\n",
    "<div class='tableauPlaceholder' id='viz1566935632399' style='position: relative'><noscript><a href='#'><img alt=' ' src='https:&#47;&#47;public.tableau.com&#47;static&#47;images&#47;CR&#47;CRShooters&#47;CRShooters&#47;1_rss.png' style='border: none' /></a></noscript><object class='tableauViz'  style='display:none;'><param name='host_url' value='https%3A%2F%2Fpublic.tableau.com%2F' /> <param name='embed_code_version' value='3' /> <param name='site_root' value='' /><param name='name' value='CRShooters&#47;CRShooters' /><param name='tabs' value='no' /><param name='toolbar' value='yes' /><param name='static_image' value='https:&#47;&#47;public.tableau.com&#47;static&#47;images&#47;CR&#47;CRShooters&#47;CRShooters&#47;1.png' /> <param name='animate_transition' value='yes' /><param name='display_static_image' value='yes' /><param name='display_spinner' value='yes' /><param name='display_overlay' value='yes' /><param name='display_count' value='yes' /><param name='filter' value='publish=yes' /></object></div>                <script type='text/javascript'>                    var divElement = document.getElementById('viz1566935632399');                    var vizElement = divElement.getElementsByTagName('object')[0];                    vizElement.style.width='100%';vizElement.style.height=(divElement.offsetWidth*0.75)+'px';                    var scriptElement = document.createElement('script');                    scriptElement.src = 'https://public.tableau.com/javascripts/api/viz_v1.js';                    vizElement.parentNode.insertBefore(scriptElement, vizElement);                </script>"
   ]
  },
  {
   "cell_type": "markdown",
   "metadata": {},
   "source": [
    "## Conclusions:\n",
    "- Not suprisingly all the players in the NBA with the highest shooting percentages are \"Big Men\". Players who play and take most of there shots close to the basket.  The Dunk is still the highest percentage shot in the game!"
   ]
  },
  {
   "cell_type": "markdown",
   "metadata": {},
   "source": [
    "# 1.5 Top 15 Best Long Range 3-point Shooters\n"
   ]
  },
  {
   "cell_type": "markdown",
   "metadata": {},
   "source": [
    "#### FILTER DATA FOR SHOTS LONGER THAN 24 FEET"
   ]
  },
  {
   "cell_type": "code",
   "execution_count": 11,
   "metadata": {},
   "outputs": [],
   "source": [
    "# Filter for long range shots > than 24 feet\n",
    "lr = data[data.SHOT_DIST >=24]"
   ]
  },
  {
   "cell_type": "markdown",
   "metadata": {},
   "source": [
    "#### LONG RANGE SHOTS TAKEN PER GAME"
   ]
  },
  {
   "cell_type": "code",
   "execution_count": 12,
   "metadata": {},
   "outputs": [
    {
     "data": {
      "text/plain": [
       "player_name\n",
       "aaron brooks       3.07\n",
       "aaron gordon       1.00\n",
       "al farouq aminu    1.53\n",
       "al horford         1.10\n",
       "al jefferson       1.00\n",
       "Name: SHOT_RESULT, dtype: float64"
      ]
     },
     "execution_count": 12,
     "metadata": {},
     "output_type": "execute_result"
    }
   ],
   "source": [
    "# Get the avg number of LR 3's taken per player\n",
    "lr_taken = lr.groupby(['player_name', 'GAME_ID'])['SHOT_RESULT'].count()\n",
    "lr_taken = lr_taken.reset_index()\n",
    "lr_taken = round(lr_taken.groupby('player_name')['SHOT_RESULT'].mean(),2)\n",
    "lr_taken.head()"
   ]
  },
  {
   "cell_type": "markdown",
   "metadata": {},
   "source": [
    "#### FIND LEAGUE AVG FOR LONG RANGE THREEs"
   ]
  },
  {
   "cell_type": "code",
   "execution_count": 13,
   "metadata": {},
   "outputs": [
    {
     "name": "stdout",
     "output_type": "stream",
     "text": [
      "The League Avg For Long Range Three's is 2.2520717131474095\n"
     ]
    }
   ],
   "source": [
    "# Find the League Average for Long range 3's\n",
    "print(\"The League Avg For Long Range Three's is {}\".format(lr_taken.mean()))"
   ]
  },
  {
   "cell_type": "markdown",
   "metadata": {},
   "source": [
    "#### REFACTOR THE DATAFRAME AND FILTER FOR PLAYERS TAKING MORE THAN 3 LONG RANGE THREE's PER GAME"
   ]
  },
  {
   "cell_type": "code",
   "execution_count": 14,
   "metadata": {},
   "outputs": [
    {
     "data": {
      "text/html": [
       "<div>\n",
       "<style scoped>\n",
       "    .dataframe tbody tr th:only-of-type {\n",
       "        vertical-align: middle;\n",
       "    }\n",
       "\n",
       "    .dataframe tbody tr th {\n",
       "        vertical-align: top;\n",
       "    }\n",
       "\n",
       "    .dataframe thead th {\n",
       "        text-align: right;\n",
       "    }\n",
       "</style>\n",
       "<table border=\"1\" class=\"dataframe\">\n",
       "  <thead>\n",
       "    <tr style=\"text-align: right;\">\n",
       "      <th></th>\n",
       "      <th>player_name</th>\n",
       "      <th>avg_lr_shots</th>\n",
       "    </tr>\n",
       "  </thead>\n",
       "  <tbody>\n",
       "    <tr>\n",
       "      <th>0</th>\n",
       "      <td>aaron brooks</td>\n",
       "      <td>3.07</td>\n",
       "    </tr>\n",
       "    <tr>\n",
       "      <th>1</th>\n",
       "      <td>aaron gordon</td>\n",
       "      <td>1.00</td>\n",
       "    </tr>\n",
       "    <tr>\n",
       "      <th>2</th>\n",
       "      <td>al farouq aminu</td>\n",
       "      <td>1.53</td>\n",
       "    </tr>\n",
       "    <tr>\n",
       "      <th>3</th>\n",
       "      <td>al horford</td>\n",
       "      <td>1.10</td>\n",
       "    </tr>\n",
       "    <tr>\n",
       "      <th>4</th>\n",
       "      <td>al jefferson</td>\n",
       "      <td>1.00</td>\n",
       "    </tr>\n",
       "  </tbody>\n",
       "</table>\n",
       "</div>"
      ],
      "text/plain": [
       "       player_name  avg_lr_shots\n",
       "0     aaron brooks          3.07\n",
       "1     aaron gordon          1.00\n",
       "2  al farouq aminu          1.53\n",
       "3       al horford          1.10\n",
       "4     al jefferson          1.00"
      ]
     },
     "execution_count": 14,
     "metadata": {},
     "output_type": "execute_result"
    }
   ],
   "source": [
    "lr_taken = lr_taken.reset_index()\n",
    "lr_taken.columns = ['player_name', 'avg_lr_shots']\n",
    "lr_taken.head()"
   ]
  },
  {
   "cell_type": "code",
   "execution_count": 15,
   "metadata": {},
   "outputs": [],
   "source": [
    "# Get the players shooting accuracy\n",
    "players3_made = lr[lr.SHOT_RESULT == 'made'].groupby('player_name')['SHOT_RESULT'].count()\n",
    "total_shots3_player = lr.groupby('player_name')['SHOT_RESULT'].count()\n",
    "acc_players = round(players3_made / total_shots3_player,4) *100"
   ]
  },
  {
   "cell_type": "code",
   "execution_count": 16,
   "metadata": {},
   "outputs": [],
   "source": [
    "# Refactor the dataframe\n",
    "acc_players = acc_players.reset_index()\n",
    "acc_players.columns = ['player_name', 'accuracy']\n",
    "acc_players['avg_lr_shots_taken']  = lr_taken['avg_lr_shots']"
   ]
  },
  {
   "cell_type": "code",
   "execution_count": 17,
   "metadata": {},
   "outputs": [],
   "source": [
    "# Filter the dataframe for more than 3 LR shots per game\n",
    "best_accuracy3 = acc_players[acc_players.avg_lr_shots_taken > 3]\n",
    "best_accuracy3 = best_accuracy3.sort_values(['accuracy'], ascending=False)"
   ]
  },
  {
   "cell_type": "code",
   "execution_count": 18,
   "metadata": {},
   "outputs": [
    {
     "data": {
      "text/html": [
       "<div>\n",
       "<style scoped>\n",
       "    .dataframe tbody tr th:only-of-type {\n",
       "        vertical-align: middle;\n",
       "    }\n",
       "\n",
       "    .dataframe tbody tr th {\n",
       "        vertical-align: top;\n",
       "    }\n",
       "\n",
       "    .dataframe thead th {\n",
       "        text-align: right;\n",
       "    }\n",
       "</style>\n",
       "<table border=\"1\" class=\"dataframe\">\n",
       "  <thead>\n",
       "    <tr style=\"text-align: right;\">\n",
       "      <th></th>\n",
       "      <th>player_name</th>\n",
       "      <th>accuracy</th>\n",
       "      <th>avg_lr_shots_taken</th>\n",
       "    </tr>\n",
       "  </thead>\n",
       "  <tbody>\n",
       "    <tr>\n",
       "      <th>0</th>\n",
       "      <td>aaron brooks</td>\n",
       "      <td>40.70</td>\n",
       "      <td>3.07</td>\n",
       "    </tr>\n",
       "    <tr>\n",
       "      <th>1</th>\n",
       "      <td>brandon knight</td>\n",
       "      <td>41.43</td>\n",
       "      <td>4.40</td>\n",
       "    </tr>\n",
       "    <tr>\n",
       "      <th>2</th>\n",
       "      <td>channing frye</td>\n",
       "      <td>39.69</td>\n",
       "      <td>4.44</td>\n",
       "    </tr>\n",
       "    <tr>\n",
       "      <th>3</th>\n",
       "      <td>chris bosh</td>\n",
       "      <td>37.30</td>\n",
       "      <td>3.07</td>\n",
       "    </tr>\n",
       "    <tr>\n",
       "      <th>4</th>\n",
       "      <td>chris paul</td>\n",
       "      <td>39.34</td>\n",
       "      <td>3.46</td>\n",
       "    </tr>\n",
       "    <tr>\n",
       "      <th>5</th>\n",
       "      <td>danny green</td>\n",
       "      <td>39.34</td>\n",
       "      <td>3.64</td>\n",
       "    </tr>\n",
       "    <tr>\n",
       "      <th>6</th>\n",
       "      <td>james harden</td>\n",
       "      <td>38.04</td>\n",
       "      <td>5.88</td>\n",
       "    </tr>\n",
       "    <tr>\n",
       "      <th>7</th>\n",
       "      <td>joe johnson</td>\n",
       "      <td>37.87</td>\n",
       "      <td>3.13</td>\n",
       "    </tr>\n",
       "    <tr>\n",
       "      <th>8</th>\n",
       "      <td>klay thompson</td>\n",
       "      <td>42.86</td>\n",
       "      <td>5.16</td>\n",
       "    </tr>\n",
       "    <tr>\n",
       "      <th>9</th>\n",
       "      <td>kyle korver</td>\n",
       "      <td>46.38</td>\n",
       "      <td>3.57</td>\n",
       "    </tr>\n",
       "    <tr>\n",
       "      <th>10</th>\n",
       "      <td>kyrie irving</td>\n",
       "      <td>38.16</td>\n",
       "      <td>4.07</td>\n",
       "    </tr>\n",
       "    <tr>\n",
       "      <th>11</th>\n",
       "      <td>paul pierce</td>\n",
       "      <td>40.57</td>\n",
       "      <td>3.24</td>\n",
       "    </tr>\n",
       "    <tr>\n",
       "      <th>12</th>\n",
       "      <td>robert covington</td>\n",
       "      <td>36.44</td>\n",
       "      <td>4.92</td>\n",
       "    </tr>\n",
       "    <tr>\n",
       "      <th>13</th>\n",
       "      <td>stephen curry</td>\n",
       "      <td>39.22</td>\n",
       "      <td>6.64</td>\n",
       "    </tr>\n",
       "    <tr>\n",
       "      <th>14</th>\n",
       "      <td>wesley matthews</td>\n",
       "      <td>38.34</td>\n",
       "      <td>5.40</td>\n",
       "    </tr>\n",
       "  </tbody>\n",
       "</table>\n",
       "</div>"
      ],
      "text/plain": [
       "         player_name  accuracy  avg_lr_shots_taken\n",
       "0       aaron brooks     40.70                3.07\n",
       "1     brandon knight     41.43                4.40\n",
       "2      channing frye     39.69                4.44\n",
       "3         chris bosh     37.30                3.07\n",
       "4         chris paul     39.34                3.46\n",
       "5        danny green     39.34                3.64\n",
       "6       james harden     38.04                5.88\n",
       "7        joe johnson     37.87                3.13\n",
       "8      klay thompson     42.86                5.16\n",
       "9        kyle korver     46.38                3.57\n",
       "10      kyrie irving     38.16                4.07\n",
       "11       paul pierce     40.57                3.24\n",
       "12  robert covington     36.44                4.92\n",
       "13     stephen curry     39.22                6.64\n",
       "14   wesley matthews     38.34                5.40"
      ]
     },
     "execution_count": 18,
     "metadata": {},
     "output_type": "execute_result"
    }
   ],
   "source": [
    "# List the top 15 Players\n",
    "best_accuracy3 = best_accuracy3[:15]\n",
    "best_accuracy3 = best_accuracy3.sort_values(['player_name'])\n",
    "best_accuracy3 = best_accuracy3.reset_index(drop=True)\n",
    "best_accuracy3"
   ]
  },
  {
   "cell_type": "markdown",
   "metadata": {},
   "source": [
    "## TOP 15 BEST LONG RANGE SHOOTERS"
   ]
  },
  {
   "cell_type": "code",
   "execution_count": 19,
   "metadata": {},
   "outputs": [
    {
     "data": {
      "text/html": [
       "<div class='tableauPlaceholder' id='viz1566943320259' style='position: relative'><noscript><a href='#'><img alt=' ' src='https:&#47;&#47;public.tableau.com&#47;static&#47;images&#47;LR&#47;LRShooters&#47;LRShooters&#47;1_rss.png' style='border: none' /></a></noscript><object class='tableauViz'  style='display:none;'><param name='host_url' value='https%3A%2F%2Fpublic.tableau.com%2F' /> <param name='embed_code_version' value='3' /> <param name='site_root' value='' /><param name='name' value='LRShooters&#47;LRShooters' /><param name='tabs' value='no' /><param name='toolbar' value='yes' /><param name='static_image' value='https:&#47;&#47;public.tableau.com&#47;static&#47;images&#47;LR&#47;LRShooters&#47;LRShooters&#47;1.png' /> <param name='animate_transition' value='yes' /><param name='display_static_image' value='yes' /><param name='display_spinner' value='yes' /><param name='display_overlay' value='yes' /><param name='display_count' value='yes' /><param name='filter' value='publish=yes' /></object></div>                <script type='text/javascript'>                    var divElement = document.getElementById('viz1566943320259');                    var vizElement = divElement.getElementsByTagName('object')[0];                    vizElement.style.width='100%';vizElement.style.height=(divElement.offsetWidth*0.75)+'px';                    var scriptElement = document.createElement('script');                    scriptElement.src = 'https://public.tableau.com/javascripts/api/viz_v1.js';                    vizElement.parentNode.insertBefore(scriptElement, vizElement);                </script>\n"
      ],
      "text/plain": [
       "<IPython.core.display.HTML object>"
      ]
     },
     "metadata": {},
     "output_type": "display_data"
    }
   ],
   "source": [
    "%%HTML\n",
    "<div class='tableauPlaceholder' id='viz1566943320259' style='position: relative'><noscript><a href='#'><img alt=' ' src='https:&#47;&#47;public.tableau.com&#47;static&#47;images&#47;LR&#47;LRShooters&#47;LRShooters&#47;1_rss.png' style='border: none' /></a></noscript><object class='tableauViz'  style='display:none;'><param name='host_url' value='https%3A%2F%2Fpublic.tableau.com%2F' /> <param name='embed_code_version' value='3' /> <param name='site_root' value='' /><param name='name' value='LRShooters&#47;LRShooters' /><param name='tabs' value='no' /><param name='toolbar' value='yes' /><param name='static_image' value='https:&#47;&#47;public.tableau.com&#47;static&#47;images&#47;LR&#47;LRShooters&#47;LRShooters&#47;1.png' /> <param name='animate_transition' value='yes' /><param name='display_static_image' value='yes' /><param name='display_spinner' value='yes' /><param name='display_overlay' value='yes' /><param name='display_count' value='yes' /><param name='filter' value='publish=yes' /></object></div>                <script type='text/javascript'>                    var divElement = document.getElementById('viz1566943320259');                    var vizElement = divElement.getElementsByTagName('object')[0];                    vizElement.style.width='100%';vizElement.style.height=(divElement.offsetWidth*0.75)+'px';                    var scriptElement = document.createElement('script');                    scriptElement.src = 'https://public.tableau.com/javascripts/api/viz_v1.js';                    vizElement.parentNode.insertBefore(scriptElement, vizElement);                </script>"
   ]
  },
  {
   "cell_type": "markdown",
   "metadata": {},
   "source": [
    "## Conclusions:\n",
    "- Interesting to compare the top 12 overall scorers from the first visualization to the best short- and long-range scores.\n",
    "- This is an important reason why I have included the number of shots attempted on the last two graphs.\n",
    "- You often have specialists that shoot a fewer number of shots but do so at a high percentage.\n",
    "- Then you have players like Steph Curry and Anthony Davis that are better all-around players. They attempt a larger number of shots, have a high percentage and have more free throw points.  Steph is at the top of the long-range shooters as well as overall scorers.  Similarly, Anthony Davis is among the leaders in short range shooting percentage and is also at the top of the overall scorers list.\n",
    "- They both shoot a lot, make a lot, and get to the free throw line a lot.\n"
   ]
  },
  {
   "cell_type": "markdown",
   "metadata": {},
   "source": [
    "# 1.6 Top 15 Best Defenders"
   ]
  },
  {
   "cell_type": "markdown",
   "metadata": {},
   "source": [
    "#### FIND THE AVERAGE NUMBER OF SHOTS TAKEN AGAINST PLAYER PER GAME"
   ]
  },
  {
   "cell_type": "code",
   "execution_count": 20,
   "metadata": {},
   "outputs": [
    {
     "data": {
      "text/html": [
       "<div>\n",
       "<style scoped>\n",
       "    .dataframe tbody tr th:only-of-type {\n",
       "        vertical-align: middle;\n",
       "    }\n",
       "\n",
       "    .dataframe tbody tr th {\n",
       "        vertical-align: top;\n",
       "    }\n",
       "\n",
       "    .dataframe thead th {\n",
       "        text-align: right;\n",
       "    }\n",
       "</style>\n",
       "<table border=\"1\" class=\"dataframe\">\n",
       "  <thead>\n",
       "    <tr style=\"text-align: right;\">\n",
       "      <th></th>\n",
       "      <th>CLOSEST_DEFENDER</th>\n",
       "      <th>avg_shots_defended</th>\n",
       "    </tr>\n",
       "  </thead>\n",
       "  <tbody>\n",
       "    <tr>\n",
       "      <th>0</th>\n",
       "      <td>Acy, Quincy</td>\n",
       "      <td>5.87</td>\n",
       "    </tr>\n",
       "    <tr>\n",
       "      <th>1</th>\n",
       "      <td>Adams, Jordan</td>\n",
       "      <td>2.50</td>\n",
       "    </tr>\n",
       "    <tr>\n",
       "      <th>2</th>\n",
       "      <td>Adams, Steven</td>\n",
       "      <td>9.68</td>\n",
       "    </tr>\n",
       "    <tr>\n",
       "      <th>3</th>\n",
       "      <td>Adrien, Jeff</td>\n",
       "      <td>4.56</td>\n",
       "    </tr>\n",
       "    <tr>\n",
       "      <th>4</th>\n",
       "      <td>Afflalo, Arron</td>\n",
       "      <td>7.90</td>\n",
       "    </tr>\n",
       "  </tbody>\n",
       "</table>\n",
       "</div>"
      ],
      "text/plain": [
       "  CLOSEST_DEFENDER  avg_shots_defended\n",
       "0      Acy, Quincy                5.87\n",
       "1    Adams, Jordan                2.50\n",
       "2    Adams, Steven                9.68\n",
       "3     Adrien, Jeff                4.56\n",
       "4   Afflalo, Arron                7.90"
      ]
     },
     "execution_count": 20,
     "metadata": {},
     "output_type": "execute_result"
    }
   ],
   "source": [
    "# Average number of shots against defender per game\n",
    "def_shots = data.groupby(['CLOSEST_DEFENDER', 'GAME_ID'])['SHOT_RESULT'].count()\n",
    "def_shots = def_shots.reset_index()\n",
    "def_shots = round(def_shots.groupby('CLOSEST_DEFENDER')['SHOT_RESULT'].mean(),2)\n",
    "def_shots = def_shots.reset_index()\n",
    "def_shots.columns = ['CLOSEST_DEFENDER', 'avg_shots_defended']\n",
    "def_shots.head()"
   ]
  },
  {
   "cell_type": "markdown",
   "metadata": {},
   "source": [
    "#### BEST DEFENDERS DEFEND TOP SHOOTERS. FILTER BY MORE THAN 10 SHOTS PER GAME DEFENDED"
   ]
  },
  {
   "cell_type": "code",
   "execution_count": 21,
   "metadata": {},
   "outputs": [],
   "source": [
    "# Define missed shot percentage against defender\n",
    "defender_miss = data[data.SHOT_RESULT == 'missed'].groupby('CLOSEST_DEFENDER')['SHOT_RESULT'].count()\n",
    "total_shots_defender = data.groupby('CLOSEST_DEFENDER')['SHOT_RESULT'].count()\n",
    "accuracy_defenders = round(defender_miss / total_shots_defender,4) *100"
   ]
  },
  {
   "cell_type": "code",
   "execution_count": 22,
   "metadata": {},
   "outputs": [],
   "source": [
    "# Combine missed shot percentage and average number of shots defended\n",
    "accuracy_defenders = accuracy_defenders.reset_index()\n",
    "accuracy_defenders.columns = ['CLOSEST_DEFENDER', 'Missed Shot %']\n",
    "accuracy_defenders['avg_num_shots_defended']  = def_shots['avg_shots_defended']"
   ]
  },
  {
   "cell_type": "code",
   "execution_count": 23,
   "metadata": {},
   "outputs": [],
   "source": [
    "# Filter for more than 10 shots defended\n",
    "best_def = accuracy_defenders[accuracy_defenders.avg_num_shots_defended > 10]\n",
    "best_def = best_def.sort_values(['Missed Shot %'], ascending=False)"
   ]
  },
  {
   "cell_type": "code",
   "execution_count": 24,
   "metadata": {},
   "outputs": [
    {
     "data": {
      "text/html": [
       "<div>\n",
       "<style scoped>\n",
       "    .dataframe tbody tr th:only-of-type {\n",
       "        vertical-align: middle;\n",
       "    }\n",
       "\n",
       "    .dataframe tbody tr th {\n",
       "        vertical-align: top;\n",
       "    }\n",
       "\n",
       "    .dataframe thead th {\n",
       "        text-align: right;\n",
       "    }\n",
       "</style>\n",
       "<table border=\"1\" class=\"dataframe\">\n",
       "  <thead>\n",
       "    <tr style=\"text-align: right;\">\n",
       "      <th></th>\n",
       "      <th>CLOSEST_DEFENDER</th>\n",
       "      <th>Missed Shot %</th>\n",
       "      <th>avg_num_shots_defended</th>\n",
       "    </tr>\n",
       "  </thead>\n",
       "  <tbody>\n",
       "    <tr>\n",
       "      <th>36</th>\n",
       "      <td>Batum, Nicolas</td>\n",
       "      <td>58.73</td>\n",
       "      <td>10.02</td>\n",
       "    </tr>\n",
       "    <tr>\n",
       "      <th>49</th>\n",
       "      <td>Bledsoe, Eric</td>\n",
       "      <td>56.92</td>\n",
       "      <td>10.66</td>\n",
       "    </tr>\n",
       "    <tr>\n",
       "      <th>90</th>\n",
       "      <td>Collison, Darren</td>\n",
       "      <td>56.30</td>\n",
       "      <td>10.58</td>\n",
       "    </tr>\n",
       "    <tr>\n",
       "      <th>106</th>\n",
       "      <td>Davis, Anthony</td>\n",
       "      <td>59.44</td>\n",
       "      <td>12.43</td>\n",
       "    </tr>\n",
       "    <tr>\n",
       "      <th>142</th>\n",
       "      <td>Favors, Derrick</td>\n",
       "      <td>57.02</td>\n",
       "      <td>10.68</td>\n",
       "    </tr>\n",
       "    <tr>\n",
       "      <th>155</th>\n",
       "      <td>Gasol, Marc</td>\n",
       "      <td>56.44</td>\n",
       "      <td>10.48</td>\n",
       "    </tr>\n",
       "    <tr>\n",
       "      <th>168</th>\n",
       "      <td>Gortat, Marcin</td>\n",
       "      <td>56.10</td>\n",
       "      <td>11.28</td>\n",
       "    </tr>\n",
       "    <tr>\n",
       "      <th>172</th>\n",
       "      <td>Green, Draymond</td>\n",
       "      <td>59.92</td>\n",
       "      <td>12.95</td>\n",
       "    </tr>\n",
       "    <tr>\n",
       "      <th>185</th>\n",
       "      <td>Harden, James</td>\n",
       "      <td>56.51</td>\n",
       "      <td>10.29</td>\n",
       "    </tr>\n",
       "    <tr>\n",
       "      <th>205</th>\n",
       "      <td>Holiday, Jrue</td>\n",
       "      <td>56.85</td>\n",
       "      <td>10.65</td>\n",
       "    </tr>\n",
       "    <tr>\n",
       "      <th>213</th>\n",
       "      <td>Ibaka, Serge</td>\n",
       "      <td>58.97</td>\n",
       "      <td>13.34</td>\n",
       "    </tr>\n",
       "    <tr>\n",
       "      <th>239</th>\n",
       "      <td>Jones, Terrence</td>\n",
       "      <td>62.38</td>\n",
       "      <td>11.22</td>\n",
       "    </tr>\n",
       "    <tr>\n",
       "      <th>327</th>\n",
       "      <td>Noah, Joakim</td>\n",
       "      <td>57.75</td>\n",
       "      <td>12.64</td>\n",
       "    </tr>\n",
       "    <tr>\n",
       "      <th>400</th>\n",
       "      <td>Smith, Josh</td>\n",
       "      <td>57.30</td>\n",
       "      <td>10.50</td>\n",
       "    </tr>\n",
       "    <tr>\n",
       "      <th>442</th>\n",
       "      <td>Walker, Kemba</td>\n",
       "      <td>57.22</td>\n",
       "      <td>12.52</td>\n",
       "    </tr>\n",
       "  </tbody>\n",
       "</table>\n",
       "</div>"
      ],
      "text/plain": [
       "     CLOSEST_DEFENDER  Missed Shot %  avg_num_shots_defended\n",
       "36     Batum, Nicolas          58.73                   10.02\n",
       "49      Bledsoe, Eric          56.92                   10.66\n",
       "90   Collison, Darren          56.30                   10.58\n",
       "106    Davis, Anthony          59.44                   12.43\n",
       "142   Favors, Derrick          57.02                   10.68\n",
       "155       Gasol, Marc          56.44                   10.48\n",
       "168    Gortat, Marcin          56.10                   11.28\n",
       "172   Green, Draymond          59.92                   12.95\n",
       "185     Harden, James          56.51                   10.29\n",
       "205     Holiday, Jrue          56.85                   10.65\n",
       "213      Ibaka, Serge          58.97                   13.34\n",
       "239   Jones, Terrence          62.38                   11.22\n",
       "327      Noah, Joakim          57.75                   12.64\n",
       "400       Smith, Josh          57.30                   10.50\n",
       "442     Walker, Kemba          57.22                   12.52"
      ]
     },
     "execution_count": 24,
     "metadata": {},
     "output_type": "execute_result"
    }
   ],
   "source": [
    "# Display top 15 defenders\n",
    "best_def = best_def[:15]\n",
    "best_def = best_def.sort_values(['CLOSEST_DEFENDER'])\n",
    "best_def"
   ]
  },
  {
   "cell_type": "markdown",
   "metadata": {},
   "source": [
    "## TOP 15 BEST NBA DEFENDERS"
   ]
  },
  {
   "cell_type": "code",
   "execution_count": 25,
   "metadata": {},
   "outputs": [
    {
     "data": {
      "text/html": [
       "<div class='tableauPlaceholder' id='viz1566950114707' style='position: relative'><noscript><a href='#'><img alt=' ' src='https:&#47;&#47;public.tableau.com&#47;static&#47;images&#47;To&#47;Top15Defenders&#47;Top15Defenders&#47;1_rss.png' style='border: none' /></a></noscript><object class='tableauViz'  style='display:none;'><param name='host_url' value='https%3A%2F%2Fpublic.tableau.com%2F' /> <param name='embed_code_version' value='3' /> <param name='site_root' value='' /><param name='name' value='Top15Defenders&#47;Top15Defenders' /><param name='tabs' value='no' /><param name='toolbar' value='yes' /><param name='static_image' value='https:&#47;&#47;public.tableau.com&#47;static&#47;images&#47;To&#47;Top15Defenders&#47;Top15Defenders&#47;1.png' /> <param name='animate_transition' value='yes' /><param name='display_static_image' value='yes' /><param name='display_spinner' value='yes' /><param name='display_overlay' value='yes' /><param name='display_count' value='yes' /></object></div>                <script type='text/javascript'>                    var divElement = document.getElementById('viz1566950114707');                    var vizElement = divElement.getElementsByTagName('object')[0];                    vizElement.style.width='100%';vizElement.style.height=(divElement.offsetWidth*0.75)+'px';                    var scriptElement = document.createElement('script');                    scriptElement.src = 'https://public.tableau.com/javascripts/api/viz_v1.js';                    vizElement.parentNode.insertBefore(scriptElement, vizElement);                </script>\n"
      ],
      "text/plain": [
       "<IPython.core.display.HTML object>"
      ]
     },
     "metadata": {},
     "output_type": "display_data"
    }
   ],
   "source": [
    "%%HTML\n",
    "<div class='tableauPlaceholder' id='viz1566950114707' style='position: relative'><noscript><a href='#'><img alt=' ' src='https:&#47;&#47;public.tableau.com&#47;static&#47;images&#47;To&#47;Top15Defenders&#47;Top15Defenders&#47;1_rss.png' style='border: none' /></a></noscript><object class='tableauViz'  style='display:none;'><param name='host_url' value='https%3A%2F%2Fpublic.tableau.com%2F' /> <param name='embed_code_version' value='3' /> <param name='site_root' value='' /><param name='name' value='Top15Defenders&#47;Top15Defenders' /><param name='tabs' value='no' /><param name='toolbar' value='yes' /><param name='static_image' value='https:&#47;&#47;public.tableau.com&#47;static&#47;images&#47;To&#47;Top15Defenders&#47;Top15Defenders&#47;1.png' /> <param name='animate_transition' value='yes' /><param name='display_static_image' value='yes' /><param name='display_spinner' value='yes' /><param name='display_overlay' value='yes' /><param name='display_count' value='yes' /></object></div>                <script type='text/javascript'>                    var divElement = document.getElementById('viz1566950114707');                    var vizElement = divElement.getElementsByTagName('object')[0];                    vizElement.style.width='100%';vizElement.style.height=(divElement.offsetWidth*0.75)+'px';                    var scriptElement = document.createElement('script');                    scriptElement.src = 'https://public.tableau.com/javascripts/api/viz_v1.js';                    vizElement.parentNode.insertBefore(scriptElement, vizElement);                </script>"
   ]
  },
  {
   "cell_type": "markdown",
   "metadata": {},
   "source": [
    "## Conclusions:\n",
    "- In the NBA the best defenders are usually tasked with guarding the other teams’ best players.  Players who take a lot of shots.  That is why I chose to include players who defend at least 10 shots per game.\n",
    "- Not surprisingly the list includes many centers.  The “Big Men” who stay close to the basket and guard the rim.  \n",
    "- What was surprising to me as Houston Rockets fan is James Harden, someone who gets a bad rap as a poor defensive player, is actually a well above average defensive player!\n"
   ]
  },
  {
   "cell_type": "markdown",
   "metadata": {},
   "source": [
    "# 1.7 Top 15 Best Mid-Range Shooters\n",
    "-They say the mid-range game is dead! I hypothesize Chris Paul and Dirk Nowtizski will be on the list"
   ]
  },
  {
   "cell_type": "markdown",
   "metadata": {},
   "source": [
    "#### LOOK AT SHOTS BETWEEN 10 AND 24 FEET"
   ]
  },
  {
   "cell_type": "code",
   "execution_count": 26,
   "metadata": {},
   "outputs": [],
   "source": [
    "mr = data[(data.SHOT_DIST >10) & (data.SHOT_DIST <25)]"
   ]
  },
  {
   "cell_type": "markdown",
   "metadata": {},
   "source": [
    "#### MIDRANGE SHOTS TAKEN PER GAME"
   ]
  },
  {
   "cell_type": "code",
   "execution_count": 27,
   "metadata": {},
   "outputs": [
    {
     "data": {
      "text/plain": [
       "player_name\n",
       "aaron brooks       3.44\n",
       "aaron gordon       1.72\n",
       "al farouq aminu    2.48\n",
       "al horford         6.45\n",
       "al jefferson       5.98\n",
       "Name: SHOT_RESULT, dtype: float64"
      ]
     },
     "execution_count": 27,
     "metadata": {},
     "output_type": "execute_result"
    }
   ],
   "source": [
    "# Get the avg number mid-range shots taken per player\n",
    "mr_taken = mr.groupby(['player_name', 'GAME_ID'])['SHOT_RESULT'].count()\n",
    "mr_taken = mr_taken.reset_index()\n",
    "mr_taken = round(mr_taken.groupby('player_name')['SHOT_RESULT'].mean(),2)\n",
    "mr_taken.head()"
   ]
  },
  {
   "cell_type": "markdown",
   "metadata": {},
   "source": [
    "#### LEAGUE AVERAGE FOR MID-RANGE SHOTS"
   ]
  },
  {
   "cell_type": "code",
   "execution_count": 28,
   "metadata": {},
   "outputs": [
    {
     "name": "stdout",
     "output_type": "stream",
     "text": [
      "The League Avg for Mid-range Shots is 4.363821428571429\n"
     ]
    }
   ],
   "source": [
    "# Find the League Average for Long range 3's\n",
    "print(\"The League Avg for Mid-range Shots is {}\".format(mr_taken.mean()))"
   ]
  },
  {
   "cell_type": "markdown",
   "metadata": {},
   "source": [
    "#### CREATE DATA FRAME AND FILTER FOR MORE THAN 5 MID-RANGE SHOTS"
   ]
  },
  {
   "cell_type": "code",
   "execution_count": 29,
   "metadata": {},
   "outputs": [
    {
     "data": {
      "text/html": [
       "<div>\n",
       "<style scoped>\n",
       "    .dataframe tbody tr th:only-of-type {\n",
       "        vertical-align: middle;\n",
       "    }\n",
       "\n",
       "    .dataframe tbody tr th {\n",
       "        vertical-align: top;\n",
       "    }\n",
       "\n",
       "    .dataframe thead th {\n",
       "        text-align: right;\n",
       "    }\n",
       "</style>\n",
       "<table border=\"1\" class=\"dataframe\">\n",
       "  <thead>\n",
       "    <tr style=\"text-align: right;\">\n",
       "      <th></th>\n",
       "      <th>player_name</th>\n",
       "      <th>avg_mr_shots</th>\n",
       "    </tr>\n",
       "  </thead>\n",
       "  <tbody>\n",
       "    <tr>\n",
       "      <th>0</th>\n",
       "      <td>aaron brooks</td>\n",
       "      <td>3.44</td>\n",
       "    </tr>\n",
       "    <tr>\n",
       "      <th>1</th>\n",
       "      <td>aaron gordon</td>\n",
       "      <td>1.72</td>\n",
       "    </tr>\n",
       "    <tr>\n",
       "      <th>2</th>\n",
       "      <td>al farouq aminu</td>\n",
       "      <td>2.48</td>\n",
       "    </tr>\n",
       "    <tr>\n",
       "      <th>3</th>\n",
       "      <td>al horford</td>\n",
       "      <td>6.45</td>\n",
       "    </tr>\n",
       "    <tr>\n",
       "      <th>4</th>\n",
       "      <td>al jefferson</td>\n",
       "      <td>5.98</td>\n",
       "    </tr>\n",
       "  </tbody>\n",
       "</table>\n",
       "</div>"
      ],
      "text/plain": [
       "       player_name  avg_mr_shots\n",
       "0     aaron brooks          3.44\n",
       "1     aaron gordon          1.72\n",
       "2  al farouq aminu          2.48\n",
       "3       al horford          6.45\n",
       "4     al jefferson          5.98"
      ]
     },
     "execution_count": 29,
     "metadata": {},
     "output_type": "execute_result"
    }
   ],
   "source": [
    "mr_taken = mr_taken.reset_index()\n",
    "mr_taken.columns = ['player_name', 'avg_mr_shots']\n",
    "mr_taken.head()"
   ]
  },
  {
   "cell_type": "code",
   "execution_count": 30,
   "metadata": {},
   "outputs": [],
   "source": [
    "# Get the players shooting accuracy\n",
    "playersmr_made = mr[mr.SHOT_RESULT == 'made'].groupby('player_name')['SHOT_RESULT'].count()\n",
    "total_shotsmr_player = mr.groupby('player_name')['SHOT_RESULT'].count()\n",
    "acc_players_mr = round(playersmr_made / total_shotsmr_player,4) *100"
   ]
  },
  {
   "cell_type": "code",
   "execution_count": 31,
   "metadata": {},
   "outputs": [],
   "source": [
    "# Combine player name, accuracy, and avg mr shots taken per game\n",
    "acc_players_mr = acc_players_mr.reset_index()\n",
    "acc_players_mr.columns = ['player_name', 'accuracy']\n",
    "acc_players_mr['avg_mr_shots_taken']  = mr_taken['avg_mr_shots']"
   ]
  },
  {
   "cell_type": "code",
   "execution_count": 32,
   "metadata": {},
   "outputs": [],
   "source": [
    "# Filter the dataframe for more than 5 MR shots per game\n",
    "best_accuracy_mr = acc_players_mr[acc_players_mr.avg_mr_shots_taken > 5]\n",
    "best_accuracy_mr = best_accuracy_mr.sort_values(['accuracy'], ascending=False)"
   ]
  },
  {
   "cell_type": "code",
   "execution_count": 33,
   "metadata": {},
   "outputs": [
    {
     "data": {
      "text/html": [
       "<div>\n",
       "<style scoped>\n",
       "    .dataframe tbody tr th:only-of-type {\n",
       "        vertical-align: middle;\n",
       "    }\n",
       "\n",
       "    .dataframe tbody tr th {\n",
       "        vertical-align: top;\n",
       "    }\n",
       "\n",
       "    .dataframe thead th {\n",
       "        text-align: right;\n",
       "    }\n",
       "</style>\n",
       "<table border=\"1\" class=\"dataframe\">\n",
       "  <thead>\n",
       "    <tr style=\"text-align: right;\">\n",
       "      <th></th>\n",
       "      <th>player_name</th>\n",
       "      <th>accuracy</th>\n",
       "      <th>avg_mr_shots_taken</th>\n",
       "    </tr>\n",
       "  </thead>\n",
       "  <tbody>\n",
       "    <tr>\n",
       "      <th>0</th>\n",
       "      <td>al horford</td>\n",
       "      <td>47.37</td>\n",
       "      <td>6.45</td>\n",
       "    </tr>\n",
       "    <tr>\n",
       "      <th>1</th>\n",
       "      <td>chris bosh</td>\n",
       "      <td>44.23</td>\n",
       "      <td>12.02</td>\n",
       "    </tr>\n",
       "    <tr>\n",
       "      <th>2</th>\n",
       "      <td>chris paul</td>\n",
       "      <td>47.84</td>\n",
       "      <td>10.08</td>\n",
       "    </tr>\n",
       "    <tr>\n",
       "      <th>3</th>\n",
       "      <td>courtney lee</td>\n",
       "      <td>46.40</td>\n",
       "      <td>6.20</td>\n",
       "    </tr>\n",
       "    <tr>\n",
       "      <th>4</th>\n",
       "      <td>darren collison</td>\n",
       "      <td>44.34</td>\n",
       "      <td>7.27</td>\n",
       "    </tr>\n",
       "    <tr>\n",
       "      <th>5</th>\n",
       "      <td>david west</td>\n",
       "      <td>44.24</td>\n",
       "      <td>7.33</td>\n",
       "    </tr>\n",
       "    <tr>\n",
       "      <th>6</th>\n",
       "      <td>dirk nowtizski</td>\n",
       "      <td>46.21</td>\n",
       "      <td>11.16</td>\n",
       "    </tr>\n",
       "    <tr>\n",
       "      <th>7</th>\n",
       "      <td>jason smith</td>\n",
       "      <td>43.87</td>\n",
       "      <td>5.53</td>\n",
       "    </tr>\n",
       "    <tr>\n",
       "      <th>8</th>\n",
       "      <td>jj redick</td>\n",
       "      <td>44.35</td>\n",
       "      <td>8.70</td>\n",
       "    </tr>\n",
       "    <tr>\n",
       "      <th>9</th>\n",
       "      <td>kyle korver</td>\n",
       "      <td>49.14</td>\n",
       "      <td>5.93</td>\n",
       "    </tr>\n",
       "    <tr>\n",
       "      <th>10</th>\n",
       "      <td>kyrie irving</td>\n",
       "      <td>44.42</td>\n",
       "      <td>7.86</td>\n",
       "    </tr>\n",
       "    <tr>\n",
       "      <th>11</th>\n",
       "      <td>lou williams</td>\n",
       "      <td>44.44</td>\n",
       "      <td>5.25</td>\n",
       "    </tr>\n",
       "    <tr>\n",
       "      <th>12</th>\n",
       "      <td>nikola vucevic</td>\n",
       "      <td>47.01</td>\n",
       "      <td>5.96</td>\n",
       "    </tr>\n",
       "    <tr>\n",
       "      <th>13</th>\n",
       "      <td>pau gasol</td>\n",
       "      <td>45.95</td>\n",
       "      <td>6.07</td>\n",
       "    </tr>\n",
       "    <tr>\n",
       "      <th>14</th>\n",
       "      <td>stephen curry</td>\n",
       "      <td>43.82</td>\n",
       "      <td>7.67</td>\n",
       "    </tr>\n",
       "  </tbody>\n",
       "</table>\n",
       "</div>"
      ],
      "text/plain": [
       "        player_name  accuracy  avg_mr_shots_taken\n",
       "0        al horford     47.37                6.45\n",
       "1        chris bosh     44.23               12.02\n",
       "2        chris paul     47.84               10.08\n",
       "3      courtney lee     46.40                6.20\n",
       "4   darren collison     44.34                7.27\n",
       "5        david west     44.24                7.33\n",
       "6    dirk nowtizski     46.21               11.16\n",
       "7       jason smith     43.87                5.53\n",
       "8         jj redick     44.35                8.70\n",
       "9       kyle korver     49.14                5.93\n",
       "10     kyrie irving     44.42                7.86\n",
       "11     lou williams     44.44                5.25\n",
       "12   nikola vucevic     47.01                5.96\n",
       "13        pau gasol     45.95                6.07\n",
       "14    stephen curry     43.82                7.67"
      ]
     },
     "execution_count": 33,
     "metadata": {},
     "output_type": "execute_result"
    }
   ],
   "source": [
    "# List the top 15 Players\n",
    "best_accuracy_mr = best_accuracy_mr[:15]\n",
    "best_accuracy_mr = best_accuracy_mr.sort_values(['player_name'])\n",
    "best_accuracy_mr = best_accuracy_mr.reset_index(drop=True)\n",
    "best_accuracy_mr"
   ]
  },
  {
   "cell_type": "markdown",
   "metadata": {},
   "source": [
    "## NBA's TOP 15 MID-RANGE SHOOTERS (BETWEEN 10 AND 24 FT)"
   ]
  },
  {
   "cell_type": "code",
   "execution_count": 34,
   "metadata": {},
   "outputs": [
    {
     "data": {
      "text/html": [
       "<div class='tableauPlaceholder' id='viz1566955265249' style='position: relative'><noscript><a href='#'><img alt=' ' src='https:&#47;&#47;public.tableau.com&#47;static&#47;images&#47;MR&#47;MRShooters&#47;MRShooters&#47;1_rss.png' style='border: none' /></a></noscript><object class='tableauViz'  style='display:none;'><param name='host_url' value='https%3A%2F%2Fpublic.tableau.com%2F' /> <param name='embed_code_version' value='3' /> <param name='site_root' value='' /><param name='name' value='MRShooters&#47;MRShooters' /><param name='tabs' value='no' /><param name='toolbar' value='yes' /><param name='static_image' value='https:&#47;&#47;public.tableau.com&#47;static&#47;images&#47;MR&#47;MRShooters&#47;MRShooters&#47;1.png' /> <param name='animate_transition' value='yes' /><param name='display_static_image' value='yes' /><param name='display_spinner' value='yes' /><param name='display_overlay' value='yes' /><param name='display_count' value='yes' /><param name='filter' value='publish=yes' /></object></div>                <script type='text/javascript'>                    var divElement = document.getElementById('viz1566955265249');                    var vizElement = divElement.getElementsByTagName('object')[0];                    vizElement.style.width='100%';vizElement.style.height=(divElement.offsetWidth*0.75)+'px';                    var scriptElement = document.createElement('script');                    scriptElement.src = 'https://public.tableau.com/javascripts/api/viz_v1.js';                    vizElement.parentNode.insertBefore(scriptElement, vizElement);                </script>\n"
      ],
      "text/plain": [
       "<IPython.core.display.HTML object>"
      ]
     },
     "metadata": {},
     "output_type": "display_data"
    }
   ],
   "source": [
    "%%HTML\n",
    "<div class='tableauPlaceholder' id='viz1566955265249' style='position: relative'><noscript><a href='#'><img alt=' ' src='https:&#47;&#47;public.tableau.com&#47;static&#47;images&#47;MR&#47;MRShooters&#47;MRShooters&#47;1_rss.png' style='border: none' /></a></noscript><object class='tableauViz'  style='display:none;'><param name='host_url' value='https%3A%2F%2Fpublic.tableau.com%2F' /> <param name='embed_code_version' value='3' /> <param name='site_root' value='' /><param name='name' value='MRShooters&#47;MRShooters' /><param name='tabs' value='no' /><param name='toolbar' value='yes' /><param name='static_image' value='https:&#47;&#47;public.tableau.com&#47;static&#47;images&#47;MR&#47;MRShooters&#47;MRShooters&#47;1.png' /> <param name='animate_transition' value='yes' /><param name='display_static_image' value='yes' /><param name='display_spinner' value='yes' /><param name='display_overlay' value='yes' /><param name='display_count' value='yes' /><param name='filter' value='publish=yes' /></object></div>                <script type='text/javascript'>                    var divElement = document.getElementById('viz1566955265249');                    var vizElement = divElement.getElementsByTagName('object')[0];                    vizElement.style.width='100%';vizElement.style.height=(divElement.offsetWidth*0.75)+'px';                    var scriptElement = document.createElement('script');                    scriptElement.src = 'https://public.tableau.com/javascripts/api/viz_v1.js';                    vizElement.parentNode.insertBefore(scriptElement, vizElement);                </script>"
   ]
  },
  {
   "cell_type": "markdown",
   "metadata": {},
   "source": [
    "# Conclusions\n",
    "- In todays world, sport is guided by analytics, as much as any other business.\n",
    "- Teams in the NBA, and all sports, employ large teams of people that analyze game data.\n",
    "- These insights guide all aspects of the game.  From the offensive philosophy, to the players a team has on its roster.\n",
    "- Team like the Houston Rockets have built their whole team philosophy around analytics.  Their offense is built around shooting either high percentage close range shots or the 3-pointer. The rockets attempt (excluding Chris Paul!) very few mid-range shots.  They view this shot as lower percentage with lower reward.  \n",
    "- It was interesting to investigate the best close-range, mid-range, and long-range shooters.  It’s not surprising, that the people who showed up in more than one of the top categories, are some of the best players in the league.\n",
    "- Because of this philosophy and approach the NBA is moving more towards teams with one or two great all around players surrounded by a supporting cast of role players and specialists. Players that shoot the three well or big men that play under the basket and take close range shots\n"
   ]
  },
  {
   "cell_type": "code",
   "execution_count": null,
   "metadata": {},
   "outputs": [],
   "source": []
  }
 ],
 "metadata": {
  "kernelspec": {
   "display_name": "Python 3",
   "language": "python",
   "name": "python3"
  },
  "language_info": {
   "codemirror_mode": {
    "name": "ipython",
    "version": 3
   },
   "file_extension": ".py",
   "mimetype": "text/x-python",
   "name": "python",
   "nbconvert_exporter": "python",
   "pygments_lexer": "ipython3",
   "version": "3.7.3"
  }
 },
 "nbformat": 4,
 "nbformat_minor": 2
}
